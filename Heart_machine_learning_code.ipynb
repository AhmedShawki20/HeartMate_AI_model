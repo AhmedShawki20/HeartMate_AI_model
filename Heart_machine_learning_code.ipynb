{
  "cells": [
    {
      "cell_type": "markdown",
      "source": [
        "# Import Modules"
      ],
      "metadata": {
        "id": "RCWKI4dXXOvr"
      }
    },
    {
      "cell_type": "code",
      "execution_count": null,
      "metadata": {
        "id": "pwKGqlsm36Q_"
      },
      "outputs": [],
      "source": [
        "# Prepare dataset\n",
        "import pandas as pd\n",
        "import matplotlib.pyplot as plt\n",
        "import numpy as np\n",
        "import matplotlib.pyplot as plt\n",
        "import seaborn as sns\n",
        "import json\n",
        "# Modelling\n",
        "from sklearn.linear_model import LogisticRegression\n",
        "from sklearn.neighbors import KNeighborsClassifier\n",
        "from sklearn.tree import DecisionTreeClassifier\n",
        "from sklearn.ensemble import RandomForestClassifier\n",
        "from sklearn.naive_bayes import GaussianNB\n",
        "from sklearn.svm import SVC\n",
        "from sklearn.model_selection import KFold , cross_val_score\n",
        "from sklearn.neural_network import MLPClassifier\n",
        "from sklearn.model_selection import train_test_split\n",
        "from sklearn.preprocessing import StandardScaler, LabelEncoder\n",
        "from sklearn.metrics import accuracy_score\n",
        "from sklearn.model_selection import StratifiedKFold\n",
        "from sklearn.multiclass import OneVsOneClassifier\n",
        "from sklearn.discriminant_analysis import LinearDiscriminantAnalysis\n",
        "from sklearn.metrics import classification_report, accuracy_score, confusion_matrix, recall_score\n",
        "from sklearn.ensemble import GradientBoostingClassifier\n",
        "# Saving weights\n",
        "import joblib\n",
        "#---------------------------------------\n",
        "import warnings\n",
        "warnings.filterwarnings(\"ignore\")\n"
      ]
    },
    {
      "cell_type": "markdown",
      "source": [
        "# Prepare the Data"
      ],
      "metadata": {
        "id": "LfhY88hcXSvq"
      }
    },
    {
      "cell_type": "code",
      "execution_count": null,
      "metadata": {
        "id": "cL1SKYy26XSv"
      },
      "outputs": [],
      "source": [
        "train_data = pd.read_csv(\"/content/the_data_jul.csv\")"
      ]
    },
    {
      "cell_type": "code",
      "execution_count": null,
      "metadata": {
        "colab": {
          "base_uri": "https://localhost:8080/",
          "height": 287
        },
        "id": "0k9IDXG-S3Xs",
        "outputId": "8f334ca5-3d42-4a80-a2fa-00fd4d6675d6"
      },
      "outputs": [
        {
          "output_type": "execute_result",
          "data": {
            "text/plain": [
              "   age  weight  height     sex geneticDiabetes geneticHeartDiseases   HR  \\\n",
              "0   57      97     178    male              No                   No   91   \n",
              "1   30      65     210    male              No                  Yes   72   \n",
              "2   88     114     178    male             Yes                  Yes   70   \n",
              "3   70     100     152  female             Yes                  Yes   82   \n",
              "4   64      68     183    male              No                   No  118   \n",
              "\n",
              "   Systolic_BP  Diastolic_BP  HRV  SpO2  temperature  RR smoker faint sleep  \\\n",
              "0          116            64   53    85         39.6  21    Yes    No    No   \n",
              "1          104            60   93    91         37.3  25    Yes    No    No   \n",
              "2          106            54   33    76         35.9  27    Yes   Yes    No   \n",
              "3          136            70   86    92         37.5  23     No    No    No   \n",
              "4           92            45   14    64         37.6  20    Yes    No    No   \n",
              "\n",
              "            diagnose  \n",
              "0          Pneumonia  \n",
              "1             Asthma  \n",
              "2               COPD  \n",
              "3               COPD  \n",
              "4  Cardiogenic Shock  "
            ],
            "text/html": [
              "\n",
              "  <div id=\"df-f52cad93-e335-4b3c-8780-e51b1bed8472\">\n",
              "    <div class=\"colab-df-container\">\n",
              "      <div>\n",
              "<style scoped>\n",
              "    .dataframe tbody tr th:only-of-type {\n",
              "        vertical-align: middle;\n",
              "    }\n",
              "\n",
              "    .dataframe tbody tr th {\n",
              "        vertical-align: top;\n",
              "    }\n",
              "\n",
              "    .dataframe thead th {\n",
              "        text-align: right;\n",
              "    }\n",
              "</style>\n",
              "<table border=\"1\" class=\"dataframe\">\n",
              "  <thead>\n",
              "    <tr style=\"text-align: right;\">\n",
              "      <th></th>\n",
              "      <th>age</th>\n",
              "      <th>weight</th>\n",
              "      <th>height</th>\n",
              "      <th>sex</th>\n",
              "      <th>geneticDiabetes</th>\n",
              "      <th>geneticHeartDiseases</th>\n",
              "      <th>HR</th>\n",
              "      <th>Systolic_BP</th>\n",
              "      <th>Diastolic_BP</th>\n",
              "      <th>HRV</th>\n",
              "      <th>SpO2</th>\n",
              "      <th>temperature</th>\n",
              "      <th>RR</th>\n",
              "      <th>smoker</th>\n",
              "      <th>faint</th>\n",
              "      <th>sleep</th>\n",
              "      <th>diagnose</th>\n",
              "    </tr>\n",
              "  </thead>\n",
              "  <tbody>\n",
              "    <tr>\n",
              "      <th>0</th>\n",
              "      <td>57</td>\n",
              "      <td>97</td>\n",
              "      <td>178</td>\n",
              "      <td>male</td>\n",
              "      <td>No</td>\n",
              "      <td>No</td>\n",
              "      <td>91</td>\n",
              "      <td>116</td>\n",
              "      <td>64</td>\n",
              "      <td>53</td>\n",
              "      <td>85</td>\n",
              "      <td>39.6</td>\n",
              "      <td>21</td>\n",
              "      <td>Yes</td>\n",
              "      <td>No</td>\n",
              "      <td>No</td>\n",
              "      <td>Pneumonia</td>\n",
              "    </tr>\n",
              "    <tr>\n",
              "      <th>1</th>\n",
              "      <td>30</td>\n",
              "      <td>65</td>\n",
              "      <td>210</td>\n",
              "      <td>male</td>\n",
              "      <td>No</td>\n",
              "      <td>Yes</td>\n",
              "      <td>72</td>\n",
              "      <td>104</td>\n",
              "      <td>60</td>\n",
              "      <td>93</td>\n",
              "      <td>91</td>\n",
              "      <td>37.3</td>\n",
              "      <td>25</td>\n",
              "      <td>Yes</td>\n",
              "      <td>No</td>\n",
              "      <td>No</td>\n",
              "      <td>Asthma</td>\n",
              "    </tr>\n",
              "    <tr>\n",
              "      <th>2</th>\n",
              "      <td>88</td>\n",
              "      <td>114</td>\n",
              "      <td>178</td>\n",
              "      <td>male</td>\n",
              "      <td>Yes</td>\n",
              "      <td>Yes</td>\n",
              "      <td>70</td>\n",
              "      <td>106</td>\n",
              "      <td>54</td>\n",
              "      <td>33</td>\n",
              "      <td>76</td>\n",
              "      <td>35.9</td>\n",
              "      <td>27</td>\n",
              "      <td>Yes</td>\n",
              "      <td>Yes</td>\n",
              "      <td>No</td>\n",
              "      <td>COPD</td>\n",
              "    </tr>\n",
              "    <tr>\n",
              "      <th>3</th>\n",
              "      <td>70</td>\n",
              "      <td>100</td>\n",
              "      <td>152</td>\n",
              "      <td>female</td>\n",
              "      <td>Yes</td>\n",
              "      <td>Yes</td>\n",
              "      <td>82</td>\n",
              "      <td>136</td>\n",
              "      <td>70</td>\n",
              "      <td>86</td>\n",
              "      <td>92</td>\n",
              "      <td>37.5</td>\n",
              "      <td>23</td>\n",
              "      <td>No</td>\n",
              "      <td>No</td>\n",
              "      <td>No</td>\n",
              "      <td>COPD</td>\n",
              "    </tr>\n",
              "    <tr>\n",
              "      <th>4</th>\n",
              "      <td>64</td>\n",
              "      <td>68</td>\n",
              "      <td>183</td>\n",
              "      <td>male</td>\n",
              "      <td>No</td>\n",
              "      <td>No</td>\n",
              "      <td>118</td>\n",
              "      <td>92</td>\n",
              "      <td>45</td>\n",
              "      <td>14</td>\n",
              "      <td>64</td>\n",
              "      <td>37.6</td>\n",
              "      <td>20</td>\n",
              "      <td>Yes</td>\n",
              "      <td>No</td>\n",
              "      <td>No</td>\n",
              "      <td>Cardiogenic Shock</td>\n",
              "    </tr>\n",
              "  </tbody>\n",
              "</table>\n",
              "</div>\n",
              "      <button class=\"colab-df-convert\" onclick=\"convertToInteractive('df-f52cad93-e335-4b3c-8780-e51b1bed8472')\"\n",
              "              title=\"Convert this dataframe to an interactive table.\"\n",
              "              style=\"display:none;\">\n",
              "        \n",
              "  <svg xmlns=\"http://www.w3.org/2000/svg\" height=\"24px\"viewBox=\"0 0 24 24\"\n",
              "       width=\"24px\">\n",
              "    <path d=\"M0 0h24v24H0V0z\" fill=\"none\"/>\n",
              "    <path d=\"M18.56 5.44l.94 2.06.94-2.06 2.06-.94-2.06-.94-.94-2.06-.94 2.06-2.06.94zm-11 1L8.5 8.5l.94-2.06 2.06-.94-2.06-.94L8.5 2.5l-.94 2.06-2.06.94zm10 10l.94 2.06.94-2.06 2.06-.94-2.06-.94-.94-2.06-.94 2.06-2.06.94z\"/><path d=\"M17.41 7.96l-1.37-1.37c-.4-.4-.92-.59-1.43-.59-.52 0-1.04.2-1.43.59L10.3 9.45l-7.72 7.72c-.78.78-.78 2.05 0 2.83L4 21.41c.39.39.9.59 1.41.59.51 0 1.02-.2 1.41-.59l7.78-7.78 2.81-2.81c.8-.78.8-2.07 0-2.86zM5.41 20L4 18.59l7.72-7.72 1.47 1.35L5.41 20z\"/>\n",
              "  </svg>\n",
              "      </button>\n",
              "      \n",
              "  <style>\n",
              "    .colab-df-container {\n",
              "      display:flex;\n",
              "      flex-wrap:wrap;\n",
              "      gap: 12px;\n",
              "    }\n",
              "\n",
              "    .colab-df-convert {\n",
              "      background-color: #E8F0FE;\n",
              "      border: none;\n",
              "      border-radius: 50%;\n",
              "      cursor: pointer;\n",
              "      display: none;\n",
              "      fill: #1967D2;\n",
              "      height: 32px;\n",
              "      padding: 0 0 0 0;\n",
              "      width: 32px;\n",
              "    }\n",
              "\n",
              "    .colab-df-convert:hover {\n",
              "      background-color: #E2EBFA;\n",
              "      box-shadow: 0px 1px 2px rgba(60, 64, 67, 0.3), 0px 1px 3px 1px rgba(60, 64, 67, 0.15);\n",
              "      fill: #174EA6;\n",
              "    }\n",
              "\n",
              "    [theme=dark] .colab-df-convert {\n",
              "      background-color: #3B4455;\n",
              "      fill: #D2E3FC;\n",
              "    }\n",
              "\n",
              "    [theme=dark] .colab-df-convert:hover {\n",
              "      background-color: #434B5C;\n",
              "      box-shadow: 0px 1px 3px 1px rgba(0, 0, 0, 0.15);\n",
              "      filter: drop-shadow(0px 1px 2px rgba(0, 0, 0, 0.3));\n",
              "      fill: #FFFFFF;\n",
              "    }\n",
              "  </style>\n",
              "\n",
              "      <script>\n",
              "        const buttonEl =\n",
              "          document.querySelector('#df-f52cad93-e335-4b3c-8780-e51b1bed8472 button.colab-df-convert');\n",
              "        buttonEl.style.display =\n",
              "          google.colab.kernel.accessAllowed ? 'block' : 'none';\n",
              "\n",
              "        async function convertToInteractive(key) {\n",
              "          const element = document.querySelector('#df-f52cad93-e335-4b3c-8780-e51b1bed8472');\n",
              "          const dataTable =\n",
              "            await google.colab.kernel.invokeFunction('convertToInteractive',\n",
              "                                                     [key], {});\n",
              "          if (!dataTable) return;\n",
              "\n",
              "          const docLinkHtml = 'Like what you see? Visit the ' +\n",
              "            '<a target=\"_blank\" href=https://colab.research.google.com/notebooks/data_table.ipynb>data table notebook</a>'\n",
              "            + ' to learn more about interactive tables.';\n",
              "          element.innerHTML = '';\n",
              "          dataTable['output_type'] = 'display_data';\n",
              "          await google.colab.output.renderOutput(dataTable, element);\n",
              "          const docLink = document.createElement('div');\n",
              "          docLink.innerHTML = docLinkHtml;\n",
              "          element.appendChild(docLink);\n",
              "        }\n",
              "      </script>\n",
              "    </div>\n",
              "  </div>\n",
              "  "
            ]
          },
          "metadata": {},
          "execution_count": 25
        }
      ],
      "source": [
        "train_data.head()"
      ]
    },
    {
      "cell_type": "code",
      "execution_count": null,
      "metadata": {
        "colab": {
          "base_uri": "https://localhost:8080/"
        },
        "id": "XZTRHUIh9S8h",
        "outputId": "3d13361f-8179-453d-ec10-4817bdcdc920"
      },
      "outputs": [
        {
          "output_type": "stream",
          "name": "stdout",
          "text": [
            "                age        weight        height            HR   Systolic_BP  \\\n",
            "count  25800.000000  25800.000000  25800.000000  25800.000000  25800.000000   \n",
            "mean      56.717248     99.785969    179.943488     78.930078    107.595465   \n",
            "std       22.479403     29.096572     17.652085     34.232622     46.005242   \n",
            "min       18.000000     50.000000    150.000000      0.000000      0.000000   \n",
            "25%       37.000000     75.000000    165.000000     65.000000     92.000000   \n",
            "50%       57.000000    100.000000    180.000000     82.000000    109.000000   \n",
            "75%       76.000000    125.000000    195.000000     99.000000    133.000000   \n",
            "max       95.000000    150.000000    210.000000    150.000000    200.000000   \n",
            "\n",
            "       Diastolic_BP           HRV          SpO2   temperature            RR  \n",
            "count  25800.000000  25800.000000  25800.000000  25800.000000  25800.000000  \n",
            "mean      68.250426     50.245659     85.970388     36.498097     17.435388  \n",
            "std       29.153275     30.465664     14.538573      1.577407      7.590350  \n",
            "min        0.000000      0.000000     27.000000     30.000000      0.000000  \n",
            "25%       60.000000     25.000000     82.000000     36.100000     14.000000  \n",
            "50%       72.000000     52.000000     90.000000     36.700000     18.000000  \n",
            "75%       86.000000     76.000000     96.000000     37.300000     23.000000  \n",
            "max      120.000000    110.000000    100.000000     40.000000     30.000000  \n"
          ]
        }
      ],
      "source": [
        "print(train_data.describe())"
      ]
    },
    {
      "cell_type": "code",
      "execution_count": null,
      "metadata": {
        "colab": {
          "base_uri": "https://localhost:8080/"
        },
        "id": "9iVp6M2M9U4E",
        "outputId": "5f2c6cb7-4d14-4396-f06e-af20fbcb2e1b"
      },
      "outputs": [
        {
          "output_type": "stream",
          "name": "stdout",
          "text": [
            "(25800, 17)\n"
          ]
        }
      ],
      "source": [
        "print(train_data.shape)"
      ]
    },
    {
      "cell_type": "code",
      "execution_count": null,
      "metadata": {
        "colab": {
          "base_uri": "https://localhost:8080/"
        },
        "id": "zY7QEDII9U6Z",
        "outputId": "9765c466-9b0e-4edc-dca4-829cb2e0aa6b"
      },
      "outputs": [
        {
          "output_type": "stream",
          "name": "stdout",
          "text": [
            "<class 'pandas.core.frame.DataFrame'>\n",
            "RangeIndex: 25800 entries, 0 to 25799\n",
            "Data columns (total 17 columns):\n",
            " #   Column                Non-Null Count  Dtype  \n",
            "---  ------                --------------  -----  \n",
            " 0   age                   25800 non-null  int64  \n",
            " 1   weight                25800 non-null  int64  \n",
            " 2   height                25800 non-null  int64  \n",
            " 3   sex                   25800 non-null  object \n",
            " 4   geneticDiabetes       25800 non-null  object \n",
            " 5   geneticHeartDiseases  25800 non-null  object \n",
            " 6   HR                    25800 non-null  int64  \n",
            " 7   Systolic_BP           25800 non-null  int64  \n",
            " 8   Diastolic_BP          25800 non-null  int64  \n",
            " 9   HRV                   25800 non-null  int64  \n",
            " 10  SpO2                  25800 non-null  int64  \n",
            " 11  temperature           25800 non-null  float64\n",
            " 12  RR                    25800 non-null  int64  \n",
            " 13  smoker                25800 non-null  object \n",
            " 14  faint                 25800 non-null  object \n",
            " 15  sleep                 25800 non-null  object \n",
            " 16  diagnose              25800 non-null  object \n",
            "dtypes: float64(1), int64(9), object(7)\n",
            "memory usage: 3.3+ MB\n"
          ]
        }
      ],
      "source": [
        "train_data.info()"
      ]
    },
    {
      "cell_type": "markdown",
      "source": [
        "# Feature Engineering"
      ],
      "metadata": {
        "id": "GIBg4Z8tRam-"
      }
    },
    {
      "cell_type": "markdown",
      "source": [
        "### Check Null Data\n",
        "\n"
      ],
      "metadata": {
        "id": "vrAYiW0dRmKd"
      }
    },
    {
      "cell_type": "code",
      "execution_count": null,
      "metadata": {
        "colab": {
          "base_uri": "https://localhost:8080/"
        },
        "id": "jWJkJ5l29U9V",
        "outputId": "43734fee-27ab-47aa-d380-903415ce0b5a"
      },
      "outputs": [
        {
          "output_type": "stream",
          "name": "stdout",
          "text": [
            "age                     0\n",
            "weight                  0\n",
            "height                  0\n",
            "sex                     0\n",
            "geneticDiabetes         0\n",
            "geneticHeartDiseases    0\n",
            "HR                      0\n",
            "Systolic_BP             0\n",
            "Diastolic_BP            0\n",
            "HRV                     0\n",
            "SpO2                    0\n",
            "temperature             0\n",
            "RR                      0\n",
            "smoker                  0\n",
            "faint                   0\n",
            "sleep                   0\n",
            "diagnose                0\n",
            "dtype: int64\n"
          ]
        }
      ],
      "source": [
        "print(train_data.isnull().sum())\n",
        "# no null data"
      ]
    },
    {
      "cell_type": "markdown",
      "source": [
        "### Check Missing Data"
      ],
      "metadata": {
        "id": "aoLHJSkyRzGt"
      }
    },
    {
      "cell_type": "code",
      "execution_count": null,
      "metadata": {
        "colab": {
          "base_uri": "https://localhost:8080/"
        },
        "id": "Se5XkySx9zak",
        "outputId": "8826af56-d87d-43a7-f4f4-3042c6aaa731"
      },
      "outputs": [
        {
          "output_type": "stream",
          "name": "stdout",
          "text": [
            "age                     0\n",
            "weight                  0\n",
            "height                  0\n",
            "sex                     0\n",
            "geneticDiabetes         0\n",
            "geneticHeartDiseases    0\n",
            "HR                      0\n",
            "Systolic_BP             0\n",
            "Diastolic_BP            0\n",
            "HRV                     0\n",
            "SpO2                    0\n",
            "temperature             0\n",
            "RR                      0\n",
            "smoker                  0\n",
            "faint                   0\n",
            "sleep                   0\n",
            "diagnose                0\n",
            "dtype: int64\n"
          ]
        }
      ],
      "source": [
        "print(train_data.isna().sum())\n",
        "# no missing data"
      ]
    },
    {
      "cell_type": "markdown",
      "source": [
        "### Check Duplicated Data"
      ],
      "metadata": {
        "id": "SMoGeQu_R6Gl"
      }
    },
    {
      "cell_type": "code",
      "execution_count": null,
      "metadata": {
        "id": "I5QB1-qshQYX",
        "colab": {
          "base_uri": "https://localhost:8080/"
        },
        "outputId": "d45dbb75-5f8e-4a57-cd5e-5caa572cef17"
      },
      "outputs": [
        {
          "output_type": "stream",
          "name": "stdout",
          "text": [
            "Number of duplicated rows: 0\n"
          ]
        }
      ],
      "source": [
        "# check for duplicated data\n",
        "duplicated = train_data.duplicated()\n",
        "print('Number of duplicated rows:', duplicated.sum())"
      ]
    },
    {
      "cell_type": "markdown",
      "source": [
        "# Exploration the Data"
      ],
      "metadata": {
        "id": "dKspNpkMSRvw"
      }
    },
    {
      "cell_type": "code",
      "execution_count": null,
      "metadata": {
        "id": "aZ8bYNLC9zu_"
      },
      "outputs": [],
      "source": [
        "sns.set()   # makes a grid"
      ]
    },
    {
      "cell_type": "code",
      "execution_count": null,
      "metadata": {
        "id": "SGKHI0Hv9z2X"
      },
      "outputs": [],
      "source": [
        "def bar_chart(feature):\n",
        "  Healthy = train_data[train_data[\"diagnose\"]==\"Healthy\"][feature].value_counts()\n",
        "  Angina = train_data[train_data[\"diagnose\"]==\"Angina\"][feature].value_counts()\n",
        "  Asthma = train_data[train_data[\"diagnose\"]==\"Asthma\"][feature].value_counts()\n",
        "  COPD = train_data[train_data[\"diagnose\"]==\"COPD\"][feature].value_counts()\n",
        "  Pneumonia = train_data[train_data[\"diagnose\"]==\"Pneumonia\"][feature].value_counts()\n",
        "  Heart_Attack = train_data[train_data[\"diagnose\"]==\"Heart Attack\"][feature].value_counts()\n",
        "  Hypertension = train_data[train_data[\"diagnose\"]==\"Hypertension\"][feature].value_counts()\n",
        "  Cardiac_arrest = train_data[train_data[\"diagnose\"]==\"Cardiac Arrest\"][feature].value_counts()\n",
        "  Arrhythmia = train_data[train_data[\"diagnose\"]==\"Arrhythmia\"][feature].value_counts()\n",
        "  Anemia = train_data[train_data[\"diagnose\"]==\"Anemia\"][feature].value_counts()\n",
        "  Cardiogenic_shock = train_data[train_data[\"diagnose\"]==\"Cardiogenic Shock\"][feature].value_counts()\n",
        "\n",
        "  # -----------------------------------------------------------------------------\n",
        "  df = pd.DataFrame([Healthy,Angina,Asthma,COPD,Pneumonia,Heart_Attack,Hypertension,Cardiac_arrest,Arrhythmia,Cardiogenic_shock])\n",
        "  df.index = ['Healthy','Angina','Asthma','COPD','Pneumonia','Heart Attack','Hypertension','Cardiac Arrest','Arrhythmia','Cardiogenic Shock']\n",
        "  df.plot(kind='bar',stacked=False,figsize=(10,5))"
      ]
    },
    {
      "cell_type": "code",
      "execution_count": null,
      "metadata": {
        "id": "_SVUXpnV_qQ1"
      },
      "outputs": [],
      "source": [
        "bar_chart('sex')"
      ]
    },
    {
      "cell_type": "code",
      "execution_count": null,
      "metadata": {
        "id": "Kl6tufOKBYvV"
      },
      "outputs": [],
      "source": [
        "bar_chart('geneticHeartDiseases')"
      ]
    },
    {
      "cell_type": "code",
      "execution_count": null,
      "metadata": {
        "id": "PtMbHhzuBY2K"
      },
      "outputs": [],
      "source": [
        "bar_chart('geneticDiabetes')"
      ]
    },
    {
      "cell_type": "code",
      "execution_count": null,
      "metadata": {
        "id": "fOoaj3YLBY4g"
      },
      "outputs": [],
      "source": [
        "bar_chart('faint')"
      ]
    },
    {
      "cell_type": "code",
      "execution_count": null,
      "metadata": {
        "id": "m7geQ_DiBY69"
      },
      "outputs": [],
      "source": [
        "bar_chart('sleep')"
      ]
    },
    {
      "cell_type": "code",
      "execution_count": null,
      "metadata": {
        "colab": {
          "background_save": true
        },
        "id": "UENOr-Nx2Pmi"
      },
      "outputs": [],
      "source": [
        "# ignoring divide error and pair plotting\n",
        "with np.errstate(divide='ignore',invalid='ignore'):\n",
        "    sns.pairplot(train_data, hue=\"diagnose\", palette=\"husl\")\n",
        "plt.show()"
      ]
    },
    {
      "cell_type": "code",
      "execution_count": null,
      "metadata": {
        "id": "7mKeA8KTEX00"
      },
      "outputs": [],
      "source": [
        "fecet = sns.FacetGrid(train_data,hue='diagnose',aspect=4)\n",
        "fecet.map(sns.kdeplot,'age',fill=True)\n",
        "fecet.set(xlim=(0,train_data['age'].max()))\n",
        "fecet.add_legend()\n",
        "plt.show()"
      ]
    },
    {
      "cell_type": "code",
      "execution_count": null,
      "metadata": {
        "id": "4O8SD-PzEYGY"
      },
      "outputs": [],
      "source": [
        "fecet = sns.FacetGrid(train_data,hue='diagnose',aspect=4)\n",
        "fecet.map(sns.kdeplot,'HR',fill=True)\n",
        "fecet.set(xlim=(0,train_data['HR'].max()))\n",
        "fecet.add_legend()\n",
        "plt.show()"
      ]
    },
    {
      "cell_type": "code",
      "execution_count": null,
      "metadata": {
        "id": "fuw1ncYaEYI-"
      },
      "outputs": [],
      "source": [
        "fecet = sns.FacetGrid(train_data,hue='diagnose',aspect=4)\n",
        "fecet.map(sns.kdeplot,'HRV',fill=True)\n",
        "fecet.set(xlim=(0,train_data['HRV'].max()))\n",
        "fecet.add_legend()\n",
        "plt.show()"
      ]
    },
    {
      "cell_type": "code",
      "execution_count": null,
      "metadata": {
        "id": "Do8DTKrxEYLz"
      },
      "outputs": [],
      "source": [
        "fecet = sns.FacetGrid(train_data,hue='diagnose',aspect=4)\n",
        "fecet.map(sns.kdeplot,'RR',fill=True)\n",
        "fecet.set(xlim=(0,train_data['RR'].max()))\n",
        "fecet.add_legend()\n",
        "plt.show()"
      ]
    },
    {
      "cell_type": "code",
      "execution_count": null,
      "metadata": {
        "id": "pUhG_eBzGhOr"
      },
      "outputs": [],
      "source": [
        "fecet = sns.FacetGrid(train_data,hue='diagnose',aspect=4)\n",
        "fecet.map(sns.kdeplot,'SpO2',fill=True)\n",
        "fecet.set(xlim=(0,train_data['SpO2'].max()))\n",
        "fecet.add_legend()\n",
        "plt.show()"
      ]
    },
    {
      "cell_type": "code",
      "execution_count": null,
      "metadata": {
        "id": "EAcqIoKwHM4E"
      },
      "outputs": [],
      "source": [
        "fecet = sns.FacetGrid(train_data,hue='diagnose',aspect=4)\n",
        "fecet.map(sns.kdeplot,'Systolic_BP',fill=True)\n",
        "fecet.set(xlim=(0,train_data['Systolic_BP'].max()))\n",
        "fecet.add_legend()\n",
        "plt.show()"
      ]
    },
    {
      "cell_type": "code",
      "execution_count": null,
      "metadata": {
        "id": "GAFBoPNWJVh0"
      },
      "outputs": [],
      "source": [
        "fecet = sns.FacetGrid(train_data,hue='diagnose',aspect=4)\n",
        "fecet.map(sns.kdeplot,'Diastolic_BP',fill=True)\n",
        "fecet.set(xlim=(0,train_data['Diastolic_BP'].max()))\n",
        "fecet.add_legend()\n",
        "plt.show()"
      ]
    },
    {
      "cell_type": "code",
      "execution_count": null,
      "metadata": {
        "id": "cROgXcu6JV_V"
      },
      "outputs": [],
      "source": [
        "fecet = sns.FacetGrid(train_data,hue='diagnose',aspect=4)\n",
        "fecet.map(sns.kdeplot,'temperature',fill=True)\n",
        "fecet.set(xlim=(30,train_data['temperature'].max()))\n",
        "fecet.add_legend()\n",
        "plt.show()"
      ]
    },
    {
      "cell_type": "code",
      "execution_count": null,
      "metadata": {
        "colab": {
          "base_uri": "https://localhost:8080/"
        },
        "id": "Nx0azeAtHfTm",
        "outputId": "54f8b8ac-fc2a-4d36-8c2b-1fa11d293d22"
      },
      "outputs": [
        {
          "output_type": "stream",
          "name": "stdout",
          "text": [
            "<class 'pandas.core.frame.DataFrame'>\n",
            "RangeIndex: 25800 entries, 0 to 25799\n",
            "Data columns (total 17 columns):\n",
            " #   Column                Non-Null Count  Dtype  \n",
            "---  ------                --------------  -----  \n",
            " 0   age                   25800 non-null  int64  \n",
            " 1   weight                25800 non-null  int64  \n",
            " 2   height                25800 non-null  int64  \n",
            " 3   sex                   25800 non-null  object \n",
            " 4   geneticDiabetes       25800 non-null  object \n",
            " 5   geneticHeartDiseases  25800 non-null  object \n",
            " 6   HR                    25800 non-null  int64  \n",
            " 7   Systolic_BP           25800 non-null  int64  \n",
            " 8   Diastolic_BP          25800 non-null  int64  \n",
            " 9   HRV                   25800 non-null  int64  \n",
            " 10  SpO2                  25800 non-null  int64  \n",
            " 11  temperature           25800 non-null  float64\n",
            " 12  RR                    25800 non-null  int64  \n",
            " 13  smoker                25800 non-null  object \n",
            " 14  faint                 25800 non-null  object \n",
            " 15  sleep                 25800 non-null  object \n",
            " 16  diagnose              25800 non-null  object \n",
            "dtypes: float64(1), int64(9), object(7)\n",
            "memory usage: 3.3+ MB\n"
          ]
        }
      ],
      "source": [
        "train_data.info()"
      ]
    },
    {
      "cell_type": "code",
      "execution_count": null,
      "metadata": {
        "id": "Z6HMnV4JKT2a"
      },
      "outputs": [],
      "source": [
        "plt.figure(figsize=(20,20))\n",
        "sns.heatmap(train_data.corr(),annot=True,fmt='.2f')"
      ]
    },
    {
      "cell_type": "code",
      "execution_count": null,
      "metadata": {
        "colab": {
          "base_uri": "https://localhost:8080/",
          "height": 461
        },
        "id": "Y-Hgb_WD8fCU",
        "outputId": "5b26c2ce-b036-456c-c501-1da72d21d442"
      },
      "outputs": [
        {
          "output_type": "execute_result",
          "data": {
            "text/plain": [
              "   age  weight  height     sex geneticDiabetes geneticHeartDiseases   HR  \\\n",
              "0   57      97     178    male              No                   No   91   \n",
              "1   30      65     210    male              No                  Yes   72   \n",
              "2   88     114     178    male             Yes                  Yes   70   \n",
              "3   70     100     152  female             Yes                  Yes   82   \n",
              "4   64      68     183    male              No                   No  118   \n",
              "5   18     101     189    male             Yes                  Yes  139   \n",
              "6   25     148     196  female             Yes                  Yes   74   \n",
              "7   33     127     181    male              No                  Yes   65   \n",
              "8   52     129     151    male             Yes                   No   76   \n",
              "9   88     120     176    male             Yes                   No   76   \n",
              "\n",
              "   Systolic_BP  Diastolic_BP  HRV  SpO2  temperature  RR smoker faint sleep  \\\n",
              "0          116            64   53    85         39.6  21    Yes    No    No   \n",
              "1          104            60   93    91         37.3  25    Yes    No    No   \n",
              "2          106            54   33    76         35.9  27    Yes   Yes    No   \n",
              "3          136            70   86    92         37.5  23     No    No    No   \n",
              "4           92            45   14    64         37.6  20    Yes    No    No   \n",
              "5           83            44   12    88         38.2  25     No    No    No   \n",
              "6          128            68  100    89         36.1  21    Yes    No    No   \n",
              "7          173            85   29    85         35.4  13     No    No   Yes   \n",
              "8          100            77   77    87         36.6  24    Yes    No    No   \n",
              "9          137            84   34   100         37.1  14     No    No    No   \n",
              "\n",
              "            diagnose  \n",
              "0          Pneumonia  \n",
              "1             Asthma  \n",
              "2               COPD  \n",
              "3               COPD  \n",
              "4  Cardiogenic Shock  \n",
              "5  Cardiogenic Shock  \n",
              "6               COPD  \n",
              "7       Hypertension  \n",
              "8               COPD  \n",
              "9         Arrhythmia  "
            ],
            "text/html": [
              "\n",
              "  <div id=\"df-ef3d6bad-2480-4d49-bbc9-b294491b74a9\">\n",
              "    <div class=\"colab-df-container\">\n",
              "      <div>\n",
              "<style scoped>\n",
              "    .dataframe tbody tr th:only-of-type {\n",
              "        vertical-align: middle;\n",
              "    }\n",
              "\n",
              "    .dataframe tbody tr th {\n",
              "        vertical-align: top;\n",
              "    }\n",
              "\n",
              "    .dataframe thead th {\n",
              "        text-align: right;\n",
              "    }\n",
              "</style>\n",
              "<table border=\"1\" class=\"dataframe\">\n",
              "  <thead>\n",
              "    <tr style=\"text-align: right;\">\n",
              "      <th></th>\n",
              "      <th>age</th>\n",
              "      <th>weight</th>\n",
              "      <th>height</th>\n",
              "      <th>sex</th>\n",
              "      <th>geneticDiabetes</th>\n",
              "      <th>geneticHeartDiseases</th>\n",
              "      <th>HR</th>\n",
              "      <th>Systolic_BP</th>\n",
              "      <th>Diastolic_BP</th>\n",
              "      <th>HRV</th>\n",
              "      <th>SpO2</th>\n",
              "      <th>temperature</th>\n",
              "      <th>RR</th>\n",
              "      <th>smoker</th>\n",
              "      <th>faint</th>\n",
              "      <th>sleep</th>\n",
              "      <th>diagnose</th>\n",
              "    </tr>\n",
              "  </thead>\n",
              "  <tbody>\n",
              "    <tr>\n",
              "      <th>0</th>\n",
              "      <td>57</td>\n",
              "      <td>97</td>\n",
              "      <td>178</td>\n",
              "      <td>male</td>\n",
              "      <td>No</td>\n",
              "      <td>No</td>\n",
              "      <td>91</td>\n",
              "      <td>116</td>\n",
              "      <td>64</td>\n",
              "      <td>53</td>\n",
              "      <td>85</td>\n",
              "      <td>39.6</td>\n",
              "      <td>21</td>\n",
              "      <td>Yes</td>\n",
              "      <td>No</td>\n",
              "      <td>No</td>\n",
              "      <td>Pneumonia</td>\n",
              "    </tr>\n",
              "    <tr>\n",
              "      <th>1</th>\n",
              "      <td>30</td>\n",
              "      <td>65</td>\n",
              "      <td>210</td>\n",
              "      <td>male</td>\n",
              "      <td>No</td>\n",
              "      <td>Yes</td>\n",
              "      <td>72</td>\n",
              "      <td>104</td>\n",
              "      <td>60</td>\n",
              "      <td>93</td>\n",
              "      <td>91</td>\n",
              "      <td>37.3</td>\n",
              "      <td>25</td>\n",
              "      <td>Yes</td>\n",
              "      <td>No</td>\n",
              "      <td>No</td>\n",
              "      <td>Asthma</td>\n",
              "    </tr>\n",
              "    <tr>\n",
              "      <th>2</th>\n",
              "      <td>88</td>\n",
              "      <td>114</td>\n",
              "      <td>178</td>\n",
              "      <td>male</td>\n",
              "      <td>Yes</td>\n",
              "      <td>Yes</td>\n",
              "      <td>70</td>\n",
              "      <td>106</td>\n",
              "      <td>54</td>\n",
              "      <td>33</td>\n",
              "      <td>76</td>\n",
              "      <td>35.9</td>\n",
              "      <td>27</td>\n",
              "      <td>Yes</td>\n",
              "      <td>Yes</td>\n",
              "      <td>No</td>\n",
              "      <td>COPD</td>\n",
              "    </tr>\n",
              "    <tr>\n",
              "      <th>3</th>\n",
              "      <td>70</td>\n",
              "      <td>100</td>\n",
              "      <td>152</td>\n",
              "      <td>female</td>\n",
              "      <td>Yes</td>\n",
              "      <td>Yes</td>\n",
              "      <td>82</td>\n",
              "      <td>136</td>\n",
              "      <td>70</td>\n",
              "      <td>86</td>\n",
              "      <td>92</td>\n",
              "      <td>37.5</td>\n",
              "      <td>23</td>\n",
              "      <td>No</td>\n",
              "      <td>No</td>\n",
              "      <td>No</td>\n",
              "      <td>COPD</td>\n",
              "    </tr>\n",
              "    <tr>\n",
              "      <th>4</th>\n",
              "      <td>64</td>\n",
              "      <td>68</td>\n",
              "      <td>183</td>\n",
              "      <td>male</td>\n",
              "      <td>No</td>\n",
              "      <td>No</td>\n",
              "      <td>118</td>\n",
              "      <td>92</td>\n",
              "      <td>45</td>\n",
              "      <td>14</td>\n",
              "      <td>64</td>\n",
              "      <td>37.6</td>\n",
              "      <td>20</td>\n",
              "      <td>Yes</td>\n",
              "      <td>No</td>\n",
              "      <td>No</td>\n",
              "      <td>Cardiogenic Shock</td>\n",
              "    </tr>\n",
              "    <tr>\n",
              "      <th>5</th>\n",
              "      <td>18</td>\n",
              "      <td>101</td>\n",
              "      <td>189</td>\n",
              "      <td>male</td>\n",
              "      <td>Yes</td>\n",
              "      <td>Yes</td>\n",
              "      <td>139</td>\n",
              "      <td>83</td>\n",
              "      <td>44</td>\n",
              "      <td>12</td>\n",
              "      <td>88</td>\n",
              "      <td>38.2</td>\n",
              "      <td>25</td>\n",
              "      <td>No</td>\n",
              "      <td>No</td>\n",
              "      <td>No</td>\n",
              "      <td>Cardiogenic Shock</td>\n",
              "    </tr>\n",
              "    <tr>\n",
              "      <th>6</th>\n",
              "      <td>25</td>\n",
              "      <td>148</td>\n",
              "      <td>196</td>\n",
              "      <td>female</td>\n",
              "      <td>Yes</td>\n",
              "      <td>Yes</td>\n",
              "      <td>74</td>\n",
              "      <td>128</td>\n",
              "      <td>68</td>\n",
              "      <td>100</td>\n",
              "      <td>89</td>\n",
              "      <td>36.1</td>\n",
              "      <td>21</td>\n",
              "      <td>Yes</td>\n",
              "      <td>No</td>\n",
              "      <td>No</td>\n",
              "      <td>COPD</td>\n",
              "    </tr>\n",
              "    <tr>\n",
              "      <th>7</th>\n",
              "      <td>33</td>\n",
              "      <td>127</td>\n",
              "      <td>181</td>\n",
              "      <td>male</td>\n",
              "      <td>No</td>\n",
              "      <td>Yes</td>\n",
              "      <td>65</td>\n",
              "      <td>173</td>\n",
              "      <td>85</td>\n",
              "      <td>29</td>\n",
              "      <td>85</td>\n",
              "      <td>35.4</td>\n",
              "      <td>13</td>\n",
              "      <td>No</td>\n",
              "      <td>No</td>\n",
              "      <td>Yes</td>\n",
              "      <td>Hypertension</td>\n",
              "    </tr>\n",
              "    <tr>\n",
              "      <th>8</th>\n",
              "      <td>52</td>\n",
              "      <td>129</td>\n",
              "      <td>151</td>\n",
              "      <td>male</td>\n",
              "      <td>Yes</td>\n",
              "      <td>No</td>\n",
              "      <td>76</td>\n",
              "      <td>100</td>\n",
              "      <td>77</td>\n",
              "      <td>77</td>\n",
              "      <td>87</td>\n",
              "      <td>36.6</td>\n",
              "      <td>24</td>\n",
              "      <td>Yes</td>\n",
              "      <td>No</td>\n",
              "      <td>No</td>\n",
              "      <td>COPD</td>\n",
              "    </tr>\n",
              "    <tr>\n",
              "      <th>9</th>\n",
              "      <td>88</td>\n",
              "      <td>120</td>\n",
              "      <td>176</td>\n",
              "      <td>male</td>\n",
              "      <td>Yes</td>\n",
              "      <td>No</td>\n",
              "      <td>76</td>\n",
              "      <td>137</td>\n",
              "      <td>84</td>\n",
              "      <td>34</td>\n",
              "      <td>100</td>\n",
              "      <td>37.1</td>\n",
              "      <td>14</td>\n",
              "      <td>No</td>\n",
              "      <td>No</td>\n",
              "      <td>No</td>\n",
              "      <td>Arrhythmia</td>\n",
              "    </tr>\n",
              "  </tbody>\n",
              "</table>\n",
              "</div>\n",
              "      <button class=\"colab-df-convert\" onclick=\"convertToInteractive('df-ef3d6bad-2480-4d49-bbc9-b294491b74a9')\"\n",
              "              title=\"Convert this dataframe to an interactive table.\"\n",
              "              style=\"display:none;\">\n",
              "        \n",
              "  <svg xmlns=\"http://www.w3.org/2000/svg\" height=\"24px\"viewBox=\"0 0 24 24\"\n",
              "       width=\"24px\">\n",
              "    <path d=\"M0 0h24v24H0V0z\" fill=\"none\"/>\n",
              "    <path d=\"M18.56 5.44l.94 2.06.94-2.06 2.06-.94-2.06-.94-.94-2.06-.94 2.06-2.06.94zm-11 1L8.5 8.5l.94-2.06 2.06-.94-2.06-.94L8.5 2.5l-.94 2.06-2.06.94zm10 10l.94 2.06.94-2.06 2.06-.94-2.06-.94-.94-2.06-.94 2.06-2.06.94z\"/><path d=\"M17.41 7.96l-1.37-1.37c-.4-.4-.92-.59-1.43-.59-.52 0-1.04.2-1.43.59L10.3 9.45l-7.72 7.72c-.78.78-.78 2.05 0 2.83L4 21.41c.39.39.9.59 1.41.59.51 0 1.02-.2 1.41-.59l7.78-7.78 2.81-2.81c.8-.78.8-2.07 0-2.86zM5.41 20L4 18.59l7.72-7.72 1.47 1.35L5.41 20z\"/>\n",
              "  </svg>\n",
              "      </button>\n",
              "      \n",
              "  <style>\n",
              "    .colab-df-container {\n",
              "      display:flex;\n",
              "      flex-wrap:wrap;\n",
              "      gap: 12px;\n",
              "    }\n",
              "\n",
              "    .colab-df-convert {\n",
              "      background-color: #E8F0FE;\n",
              "      border: none;\n",
              "      border-radius: 50%;\n",
              "      cursor: pointer;\n",
              "      display: none;\n",
              "      fill: #1967D2;\n",
              "      height: 32px;\n",
              "      padding: 0 0 0 0;\n",
              "      width: 32px;\n",
              "    }\n",
              "\n",
              "    .colab-df-convert:hover {\n",
              "      background-color: #E2EBFA;\n",
              "      box-shadow: 0px 1px 2px rgba(60, 64, 67, 0.3), 0px 1px 3px 1px rgba(60, 64, 67, 0.15);\n",
              "      fill: #174EA6;\n",
              "    }\n",
              "\n",
              "    [theme=dark] .colab-df-convert {\n",
              "      background-color: #3B4455;\n",
              "      fill: #D2E3FC;\n",
              "    }\n",
              "\n",
              "    [theme=dark] .colab-df-convert:hover {\n",
              "      background-color: #434B5C;\n",
              "      box-shadow: 0px 1px 3px 1px rgba(0, 0, 0, 0.15);\n",
              "      filter: drop-shadow(0px 1px 2px rgba(0, 0, 0, 0.3));\n",
              "      fill: #FFFFFF;\n",
              "    }\n",
              "  </style>\n",
              "\n",
              "      <script>\n",
              "        const buttonEl =\n",
              "          document.querySelector('#df-ef3d6bad-2480-4d49-bbc9-b294491b74a9 button.colab-df-convert');\n",
              "        buttonEl.style.display =\n",
              "          google.colab.kernel.accessAllowed ? 'block' : 'none';\n",
              "\n",
              "        async function convertToInteractive(key) {\n",
              "          const element = document.querySelector('#df-ef3d6bad-2480-4d49-bbc9-b294491b74a9');\n",
              "          const dataTable =\n",
              "            await google.colab.kernel.invokeFunction('convertToInteractive',\n",
              "                                                     [key], {});\n",
              "          if (!dataTable) return;\n",
              "\n",
              "          const docLinkHtml = 'Like what you see? Visit the ' +\n",
              "            '<a target=\"_blank\" href=https://colab.research.google.com/notebooks/data_table.ipynb>data table notebook</a>'\n",
              "            + ' to learn more about interactive tables.';\n",
              "          element.innerHTML = '';\n",
              "          dataTable['output_type'] = 'display_data';\n",
              "          await google.colab.output.renderOutput(dataTable, element);\n",
              "          const docLink = document.createElement('div');\n",
              "          docLink.innerHTML = docLinkHtml;\n",
              "          element.appendChild(docLink);\n",
              "        }\n",
              "      </script>\n",
              "    </div>\n",
              "  </div>\n",
              "  "
            ]
          },
          "metadata": {},
          "execution_count": 33
        }
      ],
      "source": [
        "train_data.head(10)"
      ]
    },
    {
      "cell_type": "markdown",
      "source": [
        "# Encode Categorical Variables"
      ],
      "metadata": {
        "id": "bHZhnKXhUXC-"
      }
    },
    {
      "cell_type": "code",
      "execution_count": null,
      "metadata": {
        "id": "c49r3CaF3tGi"
      },
      "outputs": [],
      "source": [
        "def encode_variables(Target_data):\n",
        "  # --------------------------------------------------------\n",
        "  # Encode the categorical data as integers\n",
        "  le = LabelEncoder()\n",
        "  # Encode sex\n",
        "  Target_data['sex'] = le.fit_transform(Target_data['sex'])\n",
        "  # Encode genetic_diabetes\n",
        "  Target_data['geneticDiabetes'] = le.fit_transform(Target_data['geneticDiabetes'])\n",
        "  # Encode genetic_heart_disease\n",
        "  Target_data['geneticHeartDiseases'] = le.fit_transform(Target_data['geneticHeartDiseases'])\n",
        "  # Encode smoker\n",
        "  Target_data['smoker'] = le.fit_transform(Target_data['smoker'])\n",
        "  # Encode faint\n",
        "  Target_data['faint'] = le.fit_transform(Target_data['faint'])\n",
        "  # Encode sleep\n",
        "  Target_data['sleep'] = le.fit_transform(Target_data['sleep'])\n",
        "\n",
        "\n",
        "def encode_diagnose(Diagnosis):\n",
        "  # Encode the categorical data as integers\n",
        "  le = LabelEncoder()\n",
        "  # Encode diagnose\n",
        "  Diagnosis['diagnose'] = le.fit_transform(Diagnosis['diagnose'])"
      ]
    },
    {
      "cell_type": "code",
      "execution_count": null,
      "metadata": {
        "colab": {
          "base_uri": "https://localhost:8080/"
        },
        "id": "X3x6tD9O8Xv8",
        "outputId": "adf15495-56e3-4e49-fc80-5f8ab9479848"
      },
      "outputs": [
        {
          "output_type": "stream",
          "name": "stdout",
          "text": [
            "<class 'pandas.core.frame.DataFrame'>\n",
            "RangeIndex: 25800 entries, 0 to 25799\n",
            "Data columns (total 17 columns):\n",
            " #   Column                Non-Null Count  Dtype  \n",
            "---  ------                --------------  -----  \n",
            " 0   age                   25800 non-null  int64  \n",
            " 1   weight                25800 non-null  int64  \n",
            " 2   height                25800 non-null  int64  \n",
            " 3   sex                   25800 non-null  object \n",
            " 4   geneticDiabetes       25800 non-null  object \n",
            " 5   geneticHeartDiseases  25800 non-null  object \n",
            " 6   HR                    25800 non-null  int64  \n",
            " 7   Systolic_BP           25800 non-null  int64  \n",
            " 8   Diastolic_BP          25800 non-null  int64  \n",
            " 9   HRV                   25800 non-null  int64  \n",
            " 10  SpO2                  25800 non-null  int64  \n",
            " 11  temperature           25800 non-null  float64\n",
            " 12  RR                    25800 non-null  int64  \n",
            " 13  smoker                25800 non-null  object \n",
            " 14  faint                 25800 non-null  object \n",
            " 15  sleep                 25800 non-null  object \n",
            " 16  diagnose              25800 non-null  object \n",
            "dtypes: float64(1), int64(9), object(7)\n",
            "memory usage: 3.3+ MB\n"
          ]
        }
      ],
      "source": [
        "train_data.info()"
      ]
    },
    {
      "cell_type": "code",
      "execution_count": null,
      "metadata": {
        "id": "PxiXCLrR8aHf",
        "colab": {
          "base_uri": "https://localhost:8080/",
          "height": 287
        },
        "outputId": "8001576c-a5e9-4d69-91f0-f52d2fc14e16"
      },
      "outputs": [
        {
          "output_type": "execute_result",
          "data": {
            "text/plain": [
              "   age  weight  height     sex geneticDiabetes geneticHeartDiseases   HR  \\\n",
              "0   57      97     178    male              No                   No   91   \n",
              "1   30      65     210    male              No                  Yes   72   \n",
              "2   88     114     178    male             Yes                  Yes   70   \n",
              "3   70     100     152  female             Yes                  Yes   82   \n",
              "4   64      68     183    male              No                   No  118   \n",
              "\n",
              "   Systolic_BP  Diastolic_BP  HRV  SpO2  temperature  RR smoker faint sleep  \\\n",
              "0          116            64   53    85         39.6  21    Yes    No    No   \n",
              "1          104            60   93    91         37.3  25    Yes    No    No   \n",
              "2          106            54   33    76         35.9  27    Yes   Yes    No   \n",
              "3          136            70   86    92         37.5  23     No    No    No   \n",
              "4           92            45   14    64         37.6  20    Yes    No    No   \n",
              "\n",
              "            diagnose  \n",
              "0          Pneumonia  \n",
              "1             Asthma  \n",
              "2               COPD  \n",
              "3               COPD  \n",
              "4  Cardiogenic Shock  "
            ],
            "text/html": [
              "\n",
              "  <div id=\"df-72bb45e6-829a-4682-9ff7-4cdbb0478788\">\n",
              "    <div class=\"colab-df-container\">\n",
              "      <div>\n",
              "<style scoped>\n",
              "    .dataframe tbody tr th:only-of-type {\n",
              "        vertical-align: middle;\n",
              "    }\n",
              "\n",
              "    .dataframe tbody tr th {\n",
              "        vertical-align: top;\n",
              "    }\n",
              "\n",
              "    .dataframe thead th {\n",
              "        text-align: right;\n",
              "    }\n",
              "</style>\n",
              "<table border=\"1\" class=\"dataframe\">\n",
              "  <thead>\n",
              "    <tr style=\"text-align: right;\">\n",
              "      <th></th>\n",
              "      <th>age</th>\n",
              "      <th>weight</th>\n",
              "      <th>height</th>\n",
              "      <th>sex</th>\n",
              "      <th>geneticDiabetes</th>\n",
              "      <th>geneticHeartDiseases</th>\n",
              "      <th>HR</th>\n",
              "      <th>Systolic_BP</th>\n",
              "      <th>Diastolic_BP</th>\n",
              "      <th>HRV</th>\n",
              "      <th>SpO2</th>\n",
              "      <th>temperature</th>\n",
              "      <th>RR</th>\n",
              "      <th>smoker</th>\n",
              "      <th>faint</th>\n",
              "      <th>sleep</th>\n",
              "      <th>diagnose</th>\n",
              "    </tr>\n",
              "  </thead>\n",
              "  <tbody>\n",
              "    <tr>\n",
              "      <th>0</th>\n",
              "      <td>57</td>\n",
              "      <td>97</td>\n",
              "      <td>178</td>\n",
              "      <td>male</td>\n",
              "      <td>No</td>\n",
              "      <td>No</td>\n",
              "      <td>91</td>\n",
              "      <td>116</td>\n",
              "      <td>64</td>\n",
              "      <td>53</td>\n",
              "      <td>85</td>\n",
              "      <td>39.6</td>\n",
              "      <td>21</td>\n",
              "      <td>Yes</td>\n",
              "      <td>No</td>\n",
              "      <td>No</td>\n",
              "      <td>Pneumonia</td>\n",
              "    </tr>\n",
              "    <tr>\n",
              "      <th>1</th>\n",
              "      <td>30</td>\n",
              "      <td>65</td>\n",
              "      <td>210</td>\n",
              "      <td>male</td>\n",
              "      <td>No</td>\n",
              "      <td>Yes</td>\n",
              "      <td>72</td>\n",
              "      <td>104</td>\n",
              "      <td>60</td>\n",
              "      <td>93</td>\n",
              "      <td>91</td>\n",
              "      <td>37.3</td>\n",
              "      <td>25</td>\n",
              "      <td>Yes</td>\n",
              "      <td>No</td>\n",
              "      <td>No</td>\n",
              "      <td>Asthma</td>\n",
              "    </tr>\n",
              "    <tr>\n",
              "      <th>2</th>\n",
              "      <td>88</td>\n",
              "      <td>114</td>\n",
              "      <td>178</td>\n",
              "      <td>male</td>\n",
              "      <td>Yes</td>\n",
              "      <td>Yes</td>\n",
              "      <td>70</td>\n",
              "      <td>106</td>\n",
              "      <td>54</td>\n",
              "      <td>33</td>\n",
              "      <td>76</td>\n",
              "      <td>35.9</td>\n",
              "      <td>27</td>\n",
              "      <td>Yes</td>\n",
              "      <td>Yes</td>\n",
              "      <td>No</td>\n",
              "      <td>COPD</td>\n",
              "    </tr>\n",
              "    <tr>\n",
              "      <th>3</th>\n",
              "      <td>70</td>\n",
              "      <td>100</td>\n",
              "      <td>152</td>\n",
              "      <td>female</td>\n",
              "      <td>Yes</td>\n",
              "      <td>Yes</td>\n",
              "      <td>82</td>\n",
              "      <td>136</td>\n",
              "      <td>70</td>\n",
              "      <td>86</td>\n",
              "      <td>92</td>\n",
              "      <td>37.5</td>\n",
              "      <td>23</td>\n",
              "      <td>No</td>\n",
              "      <td>No</td>\n",
              "      <td>No</td>\n",
              "      <td>COPD</td>\n",
              "    </tr>\n",
              "    <tr>\n",
              "      <th>4</th>\n",
              "      <td>64</td>\n",
              "      <td>68</td>\n",
              "      <td>183</td>\n",
              "      <td>male</td>\n",
              "      <td>No</td>\n",
              "      <td>No</td>\n",
              "      <td>118</td>\n",
              "      <td>92</td>\n",
              "      <td>45</td>\n",
              "      <td>14</td>\n",
              "      <td>64</td>\n",
              "      <td>37.6</td>\n",
              "      <td>20</td>\n",
              "      <td>Yes</td>\n",
              "      <td>No</td>\n",
              "      <td>No</td>\n",
              "      <td>Cardiogenic Shock</td>\n",
              "    </tr>\n",
              "  </tbody>\n",
              "</table>\n",
              "</div>\n",
              "      <button class=\"colab-df-convert\" onclick=\"convertToInteractive('df-72bb45e6-829a-4682-9ff7-4cdbb0478788')\"\n",
              "              title=\"Convert this dataframe to an interactive table.\"\n",
              "              style=\"display:none;\">\n",
              "        \n",
              "  <svg xmlns=\"http://www.w3.org/2000/svg\" height=\"24px\"viewBox=\"0 0 24 24\"\n",
              "       width=\"24px\">\n",
              "    <path d=\"M0 0h24v24H0V0z\" fill=\"none\"/>\n",
              "    <path d=\"M18.56 5.44l.94 2.06.94-2.06 2.06-.94-2.06-.94-.94-2.06-.94 2.06-2.06.94zm-11 1L8.5 8.5l.94-2.06 2.06-.94-2.06-.94L8.5 2.5l-.94 2.06-2.06.94zm10 10l.94 2.06.94-2.06 2.06-.94-2.06-.94-.94-2.06-.94 2.06-2.06.94z\"/><path d=\"M17.41 7.96l-1.37-1.37c-.4-.4-.92-.59-1.43-.59-.52 0-1.04.2-1.43.59L10.3 9.45l-7.72 7.72c-.78.78-.78 2.05 0 2.83L4 21.41c.39.39.9.59 1.41.59.51 0 1.02-.2 1.41-.59l7.78-7.78 2.81-2.81c.8-.78.8-2.07 0-2.86zM5.41 20L4 18.59l7.72-7.72 1.47 1.35L5.41 20z\"/>\n",
              "  </svg>\n",
              "      </button>\n",
              "      \n",
              "  <style>\n",
              "    .colab-df-container {\n",
              "      display:flex;\n",
              "      flex-wrap:wrap;\n",
              "      gap: 12px;\n",
              "    }\n",
              "\n",
              "    .colab-df-convert {\n",
              "      background-color: #E8F0FE;\n",
              "      border: none;\n",
              "      border-radius: 50%;\n",
              "      cursor: pointer;\n",
              "      display: none;\n",
              "      fill: #1967D2;\n",
              "      height: 32px;\n",
              "      padding: 0 0 0 0;\n",
              "      width: 32px;\n",
              "    }\n",
              "\n",
              "    .colab-df-convert:hover {\n",
              "      background-color: #E2EBFA;\n",
              "      box-shadow: 0px 1px 2px rgba(60, 64, 67, 0.3), 0px 1px 3px 1px rgba(60, 64, 67, 0.15);\n",
              "      fill: #174EA6;\n",
              "    }\n",
              "\n",
              "    [theme=dark] .colab-df-convert {\n",
              "      background-color: #3B4455;\n",
              "      fill: #D2E3FC;\n",
              "    }\n",
              "\n",
              "    [theme=dark] .colab-df-convert:hover {\n",
              "      background-color: #434B5C;\n",
              "      box-shadow: 0px 1px 3px 1px rgba(0, 0, 0, 0.15);\n",
              "      filter: drop-shadow(0px 1px 2px rgba(0, 0, 0, 0.3));\n",
              "      fill: #FFFFFF;\n",
              "    }\n",
              "  </style>\n",
              "\n",
              "      <script>\n",
              "        const buttonEl =\n",
              "          document.querySelector('#df-72bb45e6-829a-4682-9ff7-4cdbb0478788 button.colab-df-convert');\n",
              "        buttonEl.style.display =\n",
              "          google.colab.kernel.accessAllowed ? 'block' : 'none';\n",
              "\n",
              "        async function convertToInteractive(key) {\n",
              "          const element = document.querySelector('#df-72bb45e6-829a-4682-9ff7-4cdbb0478788');\n",
              "          const dataTable =\n",
              "            await google.colab.kernel.invokeFunction('convertToInteractive',\n",
              "                                                     [key], {});\n",
              "          if (!dataTable) return;\n",
              "\n",
              "          const docLinkHtml = 'Like what you see? Visit the ' +\n",
              "            '<a target=\"_blank\" href=https://colab.research.google.com/notebooks/data_table.ipynb>data table notebook</a>'\n",
              "            + ' to learn more about interactive tables.';\n",
              "          element.innerHTML = '';\n",
              "          dataTable['output_type'] = 'display_data';\n",
              "          await google.colab.output.renderOutput(dataTable, element);\n",
              "          const docLink = document.createElement('div');\n",
              "          docLink.innerHTML = docLinkHtml;\n",
              "          element.appendChild(docLink);\n",
              "        }\n",
              "      </script>\n",
              "    </div>\n",
              "  </div>\n",
              "  "
            ]
          },
          "metadata": {},
          "execution_count": 36
        }
      ],
      "source": [
        "train_data.head()\n"
      ]
    },
    {
      "cell_type": "code",
      "source": [
        "encode_variables(train_data)\n",
        "encode_diagnose(train_data)"
      ],
      "metadata": {
        "id": "O9MFxzJCa-Hx"
      },
      "execution_count": null,
      "outputs": []
    },
    {
      "cell_type": "markdown",
      "source": [
        "# Spliting the Data into Training and Testing sets"
      ],
      "metadata": {
        "id": "b2RSdHleVLli"
      }
    },
    {
      "cell_type": "code",
      "source": [
        "# Split the data into training and testing sets\n",
        "x_train = train_data.drop(\"diagnose\",axis=1)\n",
        "y_train = train_data[\"diagnose\"]\n",
        "\n",
        "x_train, x_test, y_train, y_test = train_test_split(x_train, y_train, test_size=0.20, random_state=1)"
      ],
      "metadata": {
        "id": "8oU7iETwVPjV"
      },
      "execution_count": null,
      "outputs": []
    },
    {
      "cell_type": "code",
      "execution_count": null,
      "metadata": {
        "colab": {
          "base_uri": "https://localhost:8080/",
          "height": 270
        },
        "id": "M0ozUJCL3fYv",
        "outputId": "de39b36f-745e-4ee8-fd37-35f67d4181c9"
      },
      "outputs": [
        {
          "output_type": "execute_result",
          "data": {
            "text/plain": [
              "   age  weight  height  sex  geneticDiabetes  geneticHeartDiseases   HR  \\\n",
              "0   57      97     178    1                0                     0   91   \n",
              "1   30      65     210    1                0                     1   72   \n",
              "2   88     114     178    1                1                     1   70   \n",
              "3   70     100     152    0                1                     1   82   \n",
              "4   64      68     183    1                0                     0  118   \n",
              "\n",
              "   Systolic_BP  Diastolic_BP  HRV  SpO2  temperature  RR  smoker  faint  \\\n",
              "0          116            64   53    85         39.6  21       1      0   \n",
              "1          104            60   93    91         37.3  25       1      0   \n",
              "2          106            54   33    76         35.9  27       1      1   \n",
              "3          136            70   86    92         37.5  23       0      0   \n",
              "4           92            45   14    64         37.6  20       1      0   \n",
              "\n",
              "   sleep  diagnose  \n",
              "0      0         9  \n",
              "1      0         2  \n",
              "2      0         3  \n",
              "3      0         3  \n",
              "4      0         5  "
            ],
            "text/html": [
              "\n",
              "  <div id=\"df-36f073f9-657a-4469-bde6-162018074b35\">\n",
              "    <div class=\"colab-df-container\">\n",
              "      <div>\n",
              "<style scoped>\n",
              "    .dataframe tbody tr th:only-of-type {\n",
              "        vertical-align: middle;\n",
              "    }\n",
              "\n",
              "    .dataframe tbody tr th {\n",
              "        vertical-align: top;\n",
              "    }\n",
              "\n",
              "    .dataframe thead th {\n",
              "        text-align: right;\n",
              "    }\n",
              "</style>\n",
              "<table border=\"1\" class=\"dataframe\">\n",
              "  <thead>\n",
              "    <tr style=\"text-align: right;\">\n",
              "      <th></th>\n",
              "      <th>age</th>\n",
              "      <th>weight</th>\n",
              "      <th>height</th>\n",
              "      <th>sex</th>\n",
              "      <th>geneticDiabetes</th>\n",
              "      <th>geneticHeartDiseases</th>\n",
              "      <th>HR</th>\n",
              "      <th>Systolic_BP</th>\n",
              "      <th>Diastolic_BP</th>\n",
              "      <th>HRV</th>\n",
              "      <th>SpO2</th>\n",
              "      <th>temperature</th>\n",
              "      <th>RR</th>\n",
              "      <th>smoker</th>\n",
              "      <th>faint</th>\n",
              "      <th>sleep</th>\n",
              "      <th>diagnose</th>\n",
              "    </tr>\n",
              "  </thead>\n",
              "  <tbody>\n",
              "    <tr>\n",
              "      <th>0</th>\n",
              "      <td>57</td>\n",
              "      <td>97</td>\n",
              "      <td>178</td>\n",
              "      <td>1</td>\n",
              "      <td>0</td>\n",
              "      <td>0</td>\n",
              "      <td>91</td>\n",
              "      <td>116</td>\n",
              "      <td>64</td>\n",
              "      <td>53</td>\n",
              "      <td>85</td>\n",
              "      <td>39.6</td>\n",
              "      <td>21</td>\n",
              "      <td>1</td>\n",
              "      <td>0</td>\n",
              "      <td>0</td>\n",
              "      <td>9</td>\n",
              "    </tr>\n",
              "    <tr>\n",
              "      <th>1</th>\n",
              "      <td>30</td>\n",
              "      <td>65</td>\n",
              "      <td>210</td>\n",
              "      <td>1</td>\n",
              "      <td>0</td>\n",
              "      <td>1</td>\n",
              "      <td>72</td>\n",
              "      <td>104</td>\n",
              "      <td>60</td>\n",
              "      <td>93</td>\n",
              "      <td>91</td>\n",
              "      <td>37.3</td>\n",
              "      <td>25</td>\n",
              "      <td>1</td>\n",
              "      <td>0</td>\n",
              "      <td>0</td>\n",
              "      <td>2</td>\n",
              "    </tr>\n",
              "    <tr>\n",
              "      <th>2</th>\n",
              "      <td>88</td>\n",
              "      <td>114</td>\n",
              "      <td>178</td>\n",
              "      <td>1</td>\n",
              "      <td>1</td>\n",
              "      <td>1</td>\n",
              "      <td>70</td>\n",
              "      <td>106</td>\n",
              "      <td>54</td>\n",
              "      <td>33</td>\n",
              "      <td>76</td>\n",
              "      <td>35.9</td>\n",
              "      <td>27</td>\n",
              "      <td>1</td>\n",
              "      <td>1</td>\n",
              "      <td>0</td>\n",
              "      <td>3</td>\n",
              "    </tr>\n",
              "    <tr>\n",
              "      <th>3</th>\n",
              "      <td>70</td>\n",
              "      <td>100</td>\n",
              "      <td>152</td>\n",
              "      <td>0</td>\n",
              "      <td>1</td>\n",
              "      <td>1</td>\n",
              "      <td>82</td>\n",
              "      <td>136</td>\n",
              "      <td>70</td>\n",
              "      <td>86</td>\n",
              "      <td>92</td>\n",
              "      <td>37.5</td>\n",
              "      <td>23</td>\n",
              "      <td>0</td>\n",
              "      <td>0</td>\n",
              "      <td>0</td>\n",
              "      <td>3</td>\n",
              "    </tr>\n",
              "    <tr>\n",
              "      <th>4</th>\n",
              "      <td>64</td>\n",
              "      <td>68</td>\n",
              "      <td>183</td>\n",
              "      <td>1</td>\n",
              "      <td>0</td>\n",
              "      <td>0</td>\n",
              "      <td>118</td>\n",
              "      <td>92</td>\n",
              "      <td>45</td>\n",
              "      <td>14</td>\n",
              "      <td>64</td>\n",
              "      <td>37.6</td>\n",
              "      <td>20</td>\n",
              "      <td>1</td>\n",
              "      <td>0</td>\n",
              "      <td>0</td>\n",
              "      <td>5</td>\n",
              "    </tr>\n",
              "  </tbody>\n",
              "</table>\n",
              "</div>\n",
              "      <button class=\"colab-df-convert\" onclick=\"convertToInteractive('df-36f073f9-657a-4469-bde6-162018074b35')\"\n",
              "              title=\"Convert this dataframe to an interactive table.\"\n",
              "              style=\"display:none;\">\n",
              "        \n",
              "  <svg xmlns=\"http://www.w3.org/2000/svg\" height=\"24px\"viewBox=\"0 0 24 24\"\n",
              "       width=\"24px\">\n",
              "    <path d=\"M0 0h24v24H0V0z\" fill=\"none\"/>\n",
              "    <path d=\"M18.56 5.44l.94 2.06.94-2.06 2.06-.94-2.06-.94-.94-2.06-.94 2.06-2.06.94zm-11 1L8.5 8.5l.94-2.06 2.06-.94-2.06-.94L8.5 2.5l-.94 2.06-2.06.94zm10 10l.94 2.06.94-2.06 2.06-.94-2.06-.94-.94-2.06-.94 2.06-2.06.94z\"/><path d=\"M17.41 7.96l-1.37-1.37c-.4-.4-.92-.59-1.43-.59-.52 0-1.04.2-1.43.59L10.3 9.45l-7.72 7.72c-.78.78-.78 2.05 0 2.83L4 21.41c.39.39.9.59 1.41.59.51 0 1.02-.2 1.41-.59l7.78-7.78 2.81-2.81c.8-.78.8-2.07 0-2.86zM5.41 20L4 18.59l7.72-7.72 1.47 1.35L5.41 20z\"/>\n",
              "  </svg>\n",
              "      </button>\n",
              "      \n",
              "  <style>\n",
              "    .colab-df-container {\n",
              "      display:flex;\n",
              "      flex-wrap:wrap;\n",
              "      gap: 12px;\n",
              "    }\n",
              "\n",
              "    .colab-df-convert {\n",
              "      background-color: #E8F0FE;\n",
              "      border: none;\n",
              "      border-radius: 50%;\n",
              "      cursor: pointer;\n",
              "      display: none;\n",
              "      fill: #1967D2;\n",
              "      height: 32px;\n",
              "      padding: 0 0 0 0;\n",
              "      width: 32px;\n",
              "    }\n",
              "\n",
              "    .colab-df-convert:hover {\n",
              "      background-color: #E2EBFA;\n",
              "      box-shadow: 0px 1px 2px rgba(60, 64, 67, 0.3), 0px 1px 3px 1px rgba(60, 64, 67, 0.15);\n",
              "      fill: #174EA6;\n",
              "    }\n",
              "\n",
              "    [theme=dark] .colab-df-convert {\n",
              "      background-color: #3B4455;\n",
              "      fill: #D2E3FC;\n",
              "    }\n",
              "\n",
              "    [theme=dark] .colab-df-convert:hover {\n",
              "      background-color: #434B5C;\n",
              "      box-shadow: 0px 1px 3px 1px rgba(0, 0, 0, 0.15);\n",
              "      filter: drop-shadow(0px 1px 2px rgba(0, 0, 0, 0.3));\n",
              "      fill: #FFFFFF;\n",
              "    }\n",
              "  </style>\n",
              "\n",
              "      <script>\n",
              "        const buttonEl =\n",
              "          document.querySelector('#df-36f073f9-657a-4469-bde6-162018074b35 button.colab-df-convert');\n",
              "        buttonEl.style.display =\n",
              "          google.colab.kernel.accessAllowed ? 'block' : 'none';\n",
              "\n",
              "        async function convertToInteractive(key) {\n",
              "          const element = document.querySelector('#df-36f073f9-657a-4469-bde6-162018074b35');\n",
              "          const dataTable =\n",
              "            await google.colab.kernel.invokeFunction('convertToInteractive',\n",
              "                                                     [key], {});\n",
              "          if (!dataTable) return;\n",
              "\n",
              "          const docLinkHtml = 'Like what you see? Visit the ' +\n",
              "            '<a target=\"_blank\" href=https://colab.research.google.com/notebooks/data_table.ipynb>data table notebook</a>'\n",
              "            + ' to learn more about interactive tables.';\n",
              "          element.innerHTML = '';\n",
              "          dataTable['output_type'] = 'display_data';\n",
              "          await google.colab.output.renderOutput(dataTable, element);\n",
              "          const docLink = document.createElement('div');\n",
              "          docLink.innerHTML = docLinkHtml;\n",
              "          element.appendChild(docLink);\n",
              "        }\n",
              "      </script>\n",
              "    </div>\n",
              "  </div>\n",
              "  "
            ]
          },
          "metadata": {},
          "execution_count": 39
        }
      ],
      "source": [
        "train_data.head()"
      ]
    },
    {
      "cell_type": "markdown",
      "source": [
        "# Traning Model"
      ],
      "metadata": {
        "id": "3NavOYEAYmx9"
      }
    },
    {
      "cell_type": "code",
      "execution_count": null,
      "metadata": {
        "id": "9OwNKEU2uzjl"
      },
      "outputs": [],
      "source": [
        "# Train and evaluate a Linear Discriminant model\n",
        "lr = LinearDiscriminantAnalysis()\n",
        "lr.fit(x_train, y_train)\n",
        "y_pred = lr.predict(x_test)\n",
        "accuracy = accuracy_score(y_test, y_pred)\n",
        "# storing recall_score for later comparision\n",
        "lr_recall = round(recall_score(y_test,y_pred,average='weighted'),3)\n",
        "print (classification_report(y_test, y_pred, labels=None, target_names=None, sample_weight=None, digits=3, output_dict=False))\n",
        "acc = accuracy_score(y_test, y_pred)\n",
        "print ( \"Linear Discriminant Accuracy: %.3f\" % acc)\n",
        "print (\"\\n\")\n",
        "# --------------------------------------------------------------------------\n",
        "# Train and evaluate a Logistic Regression model\n",
        "lr = LogisticRegression(max_iter=10000)\n",
        "lr.fit(x_train, y_train)\n",
        "y_pred = lr.predict(x_test)\n",
        "accuracy = accuracy_score(y_test, y_pred)\n",
        "# storing recall_score for later comparision\n",
        "lr_recall = round(recall_score(y_test,y_pred,average='weighted'),3)\n",
        "print (classification_report(y_test, y_pred, labels=None, target_names=None, sample_weight=None, digits=3, output_dict=False))\n",
        "acc = accuracy_score(y_test, y_pred)\n",
        "print ( \"Logistic Regression Accuracy: %.3f\" % acc)\n",
        "print (\"\\n\")\n",
        "# --------------------------------------------------------------------------\n",
        "# Train and evaluate a Decision Tree model\n",
        "dt = DecisionTreeClassifier()\n",
        "dt.fit(x_train, y_train)\n",
        "y_pred = dt.predict(x_test)\n",
        "accuracy = accuracy_score(y_test, y_pred)\n",
        "# storing recall_score for later comparision\n",
        "dt_recall = round(recall_score(y_test,y_pred,average='weighted'),3)\n",
        "print (classification_report(y_test, y_pred, labels=None, target_names=None, sample_weight=None, digits=3, output_dict=False))\n",
        "acc = accuracy_score(y_test, y_pred)\n",
        "print ( \"Decision Tree Accuracy: %.3f\" % acc)\n",
        "print (\"\\n\")\n",
        "# --------------------------------------------------------------------------\n",
        "# Train and evaluate a Random Forest model\n",
        "rf = RandomForestClassifier()\n",
        "rf.fit(x_train, y_train)\n",
        "y_pred = rf.predict(x_test)\n",
        "accuracy = accuracy_score(y_test, y_pred)\n",
        "# storing recall_score for later comparision\n",
        "rf_recall = round(recall_score(y_test,y_pred,average='weighted'),3)\n",
        "print (classification_report(y_test, y_pred, labels=None, target_names=None, sample_weight=None, digits=3, output_dict=False))\n",
        "acc = accuracy_score(y_test, y_pred)\n",
        "print ( \"Random Forest Accuracy: %.3f\" % acc)\n",
        "print (\"\\n\")\n",
        "# --------------------------------------------------------------------------\n",
        "# Train and evaluate a K-Nearest Neighbors model\n",
        "knn = KNeighborsClassifier()\n",
        "knn.fit(x_train, y_train)\n",
        "y_pred = knn.predict(x_test)\n",
        "accuracy = accuracy_score(y_test, y_pred)\n",
        "# storing recall_score for later comparision\n",
        "knn_recall = round(recall_score(y_test,y_pred,average='weighted'),3)\n",
        "print (classification_report(y_test, y_pred, labels=None, target_names=None, sample_weight=None, digits=3, output_dict=False))\n",
        "acc = accuracy_score(y_test, y_pred)\n",
        "print ( \"K-Nearest Neighbors Accuracy: %.3f\" % acc)\n",
        "print (\"\\n\")\n",
        "# --------------------------------------------------------------------------\n",
        "# Train and evaluate a Support Vector Machine model\n",
        "svc = SVC()\n",
        "svc.fit(x_train, y_train)\n",
        "y_pred = svc.predict(x_test)\n",
        "accuracy = accuracy_score(y_test, y_pred)\n",
        "# storing recall_score for later comparision\n",
        "svc_recall = round(recall_score(y_test,y_pred,average='weighted'),3)\n",
        "print (classification_report(y_test, y_pred, labels=None, target_names=None, sample_weight=None, digits=3, output_dict=False))\n",
        "acc = accuracy_score(y_test, y_pred)\n",
        "print ( \"Support Vector Machine Accuracy: %.3f\" % acc)\n",
        "print (\"\\n\")\n",
        "# --------------------------------------------------------------------------\n",
        "# Train and evaluate a Naive Bayes model\n",
        "gnb = GaussianNB()\n",
        "gnb.fit(x_train, y_train)\n",
        "y_pred = gnb.predict(x_test)\n",
        "accuracy = accuracy_score(y_test, y_pred)\n",
        "# storing recall_score for later comparision\n",
        "gnb_recall = round(recall_score(y_test,y_pred,average='weighted'),3)\n",
        "print (classification_report(y_test, y_pred, labels=None, target_names=None, sample_weight=None, digits=3, output_dict=False))\n",
        "acc = accuracy_score(y_test, y_pred)\n",
        "print ( \"Naive Bayes Accuracy: %.3f\" % acc)\n",
        "print (\"\\n\")\n",
        "# --------------------------------------------------------------------------\n",
        "# Train and evaluate a Multi-Layer Perceptron model\n",
        "mlp = MLPClassifier(max_iter=10000)\n",
        "mlp.fit(x_train, y_train)\n",
        "y_pred = mlp.predict(x_test)\n",
        "accuracy = accuracy_score(y_test, y_pred)\n",
        "# ---   ---   ---\n",
        "# storing recall_score for later comparision\n",
        "mlp_recall = round(recall_score(y_test,y_pred,average='weighted'),3)\n",
        "print (classification_report(y_test, y_pred, labels=None, target_names=None, sample_weight=None, digits=3, output_dict=False))\n",
        "acc = accuracy_score(y_test, y_pred)\n",
        "print ( \"Multi-Layer Perceptron Accuracy: %.3f\" % acc)\n",
        "# --------------------------------------------------------------------------\n",
        "# Train and evaluate a Gradient Boosting Classifier model\n",
        "gbc = GradientBoostingClassifier()\n",
        "gbc.fit(x_train, y_train)\n",
        "y_pred = gbc.predict(x_test)\n",
        "accuracy = accuracy_score(y_test, y_pred)\n",
        "# ---   ---   ---\n",
        "# storing recall_score for later comparision\n",
        "gbc_recall = round(recall_score(y_test,y_pred,average='weighted'),3)\n",
        "print (classification_report(y_test, y_pred, labels=None, target_names=None, sample_weight=None, digits=3, output_dict=False))\n",
        "acc = accuracy_score(y_test, y_pred)\n",
        "print ( \"Gradient Boosting Classifier Accuracy: %.3f\" % acc)\n",
        "# --------------------------------------------------------------------------\n",
        "print(\"\\n\\n\")\n",
        "# train using Cross Val Score\n",
        "# Spot Check Algorithms\n",
        "models = []\n",
        "models.append(('LR Logistic Regression Accuracy', LogisticRegression(solver='liblinear', multi_class='ovr')))\n",
        "models.append(('LDA Linear Discriminat Analysis Accuracy:', LinearDiscriminantAnalysis()))\n",
        "models.append(('KNN Accurcy:', KNeighborsClassifier()))\n",
        "models.append(('CenterART Decision Tree Accuracy:', DecisionTreeClassifier()))\n",
        "models.append(('NB Naive Bayes Accuracy:', GaussianNB()))\n",
        "models.append(('Multi-Layer Perceptron Accuracy:', MLPClassifier(max_iter=10000)))\n",
        "models.append(('Random Forest Accuracy:', RandomForestClassifier()))\n",
        "models.append(('SVM', SVC(gamma='auto')))\n",
        "models.append(('GradientBoostingClassifier Accuracy:',GradientBoostingClassifier()))\n",
        "# evaluate each model in turn\n",
        "results = []\n",
        "names = []\n",
        "for name, model in models:\n",
        "\tkfold = StratifiedKFold(n_splits=10, random_state=1, shuffle=True)\n",
        "\tcv_results = cross_val_score(model, x_train, y_train, cv=kfold, scoring='accuracy')\n",
        "\tresults.append(cv_results)\n",
        "\tnames.append(name)\n",
        "\tprint('%s: %f (%f)' % (name, cv_results.mean(), cv_results.std()))\n",
        "\n"
      ]
    },
    {
      "cell_type": "markdown",
      "metadata": {
        "id": "TWSSs83EY5w2"
      },
      "source": [
        "### Save the weights as JOBLIB"
      ]
    },
    {
      "cell_type": "code",
      "execution_count": null,
      "metadata": {
        "id": "IyTbjpJGY5w3"
      },
      "outputs": [],
      "source": [
        "filename = 'heart_model_KNN.joblib'\n",
        "joblib.dump(knn, open(filename, 'wb'))"
      ]
    },
    {
      "cell_type": "code",
      "execution_count": null,
      "metadata": {
        "id": "OaaF5qVyY5w3"
      },
      "outputs": [],
      "source": [
        "loaded_model = joblib.load(open(filename, 'rb'))\n",
        "model_pred = loaded_model.predict(x_test)\n",
        "# storing recall_score for later comparision\n",
        "model_recall = round(recall_score(y_test,model_pred,average='weighted'),3)\n",
        "print (classification_report(y_test, model_pred, labels=None, target_names=None, sample_weight=None, digits=3, output_dict=False))\n",
        "acc = accuracy_score(y_test, model_pred)\n",
        "print (\"Accuracy: %.3f\" % acc)"
      ]
    },
    {
      "cell_type": "code",
      "execution_count": null,
      "metadata": {
        "id": "oau0RJn7Y5w4"
      },
      "outputs": [],
      "source": [
        "filename = 'heart_model_LogisticRegression.joblib'\n",
        "joblib.dump(lr, open(filename, 'wb'))"
      ]
    },
    {
      "cell_type": "code",
      "execution_count": null,
      "metadata": {
        "id": "M0flo3shY5w4"
      },
      "outputs": [],
      "source": [
        "loaded_model = joblib.load(open(filename, 'rb'))\n",
        "model_pred = loaded_model.predict(x_test)\n",
        "# storing recall_score for later comparision\n",
        "model_recall = round(recall_score(y_test,model_pred,average='weighted'),3)\n",
        "print (classification_report(y_test, model_pred, labels=None, target_names=None, sample_weight=None, digits=3, output_dict=False))\n",
        "acc = accuracy_score(y_test, model_pred)\n",
        "print (\"Accuracy: %.3f\" % acc)"
      ]
    },
    {
      "cell_type": "code",
      "execution_count": null,
      "metadata": {
        "id": "6q9Uvry0Y5w5"
      },
      "outputs": [],
      "source": [
        "filename = 'heart_model_DecisionTree.joblib'\n",
        "joblib.dump(dt, open(filename, 'wb'))"
      ]
    },
    {
      "cell_type": "code",
      "execution_count": null,
      "metadata": {
        "id": "s49mA4zyY5w5"
      },
      "outputs": [],
      "source": [
        "loaded_model = joblib.load(open(filename, 'rb'))\n",
        "model_pred = loaded_model.predict(x_test)\n",
        "# storing recall_score for later comparision\n",
        "model_recall = round(recall_score(y_test,model_pred,average='weighted'),3)\n",
        "print (classification_report(y_test, model_pred, labels=None, target_names=None, sample_weight=None, digits=3, output_dict=False))\n",
        "acc = accuracy_score(y_test, model_pred)\n",
        "print (\"Accuracy: %.3f\" % acc)"
      ]
    },
    {
      "cell_type": "code",
      "execution_count": null,
      "metadata": {
        "id": "lgo9Cul1Y5w6"
      },
      "outputs": [],
      "source": [
        "filename = 'heart_model_RandomForest.joblib'\n",
        "joblib.dump(rf, open(filename, 'wb'))"
      ]
    },
    {
      "cell_type": "code",
      "execution_count": null,
      "metadata": {
        "id": "NTgeaXAVY5w6"
      },
      "outputs": [],
      "source": [
        "loaded_model = joblib.load(open(filename, 'rb'))\n",
        "model_pred = loaded_model.predict(x_test)\n",
        "# storing recall_score for later comparision\n",
        "model_recall = round(recall_score(y_test,model_pred,average='weighted'),3)\n",
        "print (classification_report(y_test, model_pred, labels=None, target_names=None, sample_weight=None, digits=3, output_dict=False))\n",
        "acc = accuracy_score(y_test, model_pred)\n",
        "print (\"Accuracy: %.3f\" % acc)"
      ]
    },
    {
      "cell_type": "code",
      "execution_count": null,
      "metadata": {
        "id": "wrOrAVPlY5w6"
      },
      "outputs": [],
      "source": [
        "filename = 'heart_model_SVM.joblib'\n",
        "joblib.dump(svc, open(filename, 'wb'))"
      ]
    },
    {
      "cell_type": "code",
      "execution_count": null,
      "metadata": {
        "id": "-c9uw0H6Y5w6"
      },
      "outputs": [],
      "source": [
        "loaded_model = joblib.load(open(filename, 'rb'))\n",
        "model_pred = loaded_model.predict(x_test)\n",
        "# storing recall_score for later comparision\n",
        "model_recall = round(recall_score(y_test,model_pred,average='weighted'),3)\n",
        "print (classification_report(y_test, model_pred, labels=None, target_names=None, sample_weight=None, digits=3, output_dict=False))\n",
        "acc = accuracy_score(y_test, model_pred)\n",
        "print (\"Accuracy: %.3f\" % acc)"
      ]
    },
    {
      "cell_type": "code",
      "execution_count": null,
      "metadata": {
        "id": "mA3vlUArY5w7"
      },
      "outputs": [],
      "source": [
        "filename = 'heart_model_GaussianNB.joblib'\n",
        "joblib.dump(gnb, open(filename, 'wb'))"
      ]
    },
    {
      "cell_type": "code",
      "execution_count": null,
      "metadata": {
        "id": "NqfwZMawY5w7"
      },
      "outputs": [],
      "source": [
        "loaded_model = joblib.load(open(filename, 'rb'))\n",
        "model_pred = loaded_model.predict(x_test)\n",
        "# storing recall_score for later comparision\n",
        "model_recall = round(recall_score(y_test,model_pred,average='weighted'),3)\n",
        "print (classification_report(y_test, model_pred, labels=None, target_names=None, sample_weight=None, digits=3, output_dict=False))\n",
        "acc = accuracy_score(y_test, model_pred)\n",
        "print (\"Accuracy: %.3f\" % acc)"
      ]
    },
    {
      "cell_type": "code",
      "execution_count": null,
      "metadata": {
        "id": "1EpCXTI2Y5w7"
      },
      "outputs": [],
      "source": [
        "filename = 'heart_model_Multi_LayerPerceptron.joblib'\n",
        "joblib.dump(mlp, open(filename, 'wb'))"
      ]
    },
    {
      "cell_type": "code",
      "execution_count": null,
      "metadata": {
        "id": "-Hl2AsZIY5w7"
      },
      "outputs": [],
      "source": [
        "loaded_model = joblib.load(open(filename, 'rb'))\n",
        "model_pred = loaded_model.predict(x_test)\n",
        "# storing recall_score for later comparision\n",
        "model_recall = round(recall_score(y_test,model_pred,average='weighted'),3)\n",
        "print (classification_report(y_test, model_pred, labels=None, target_names=None, sample_weight=None, digits=3, output_dict=False))\n",
        "acc = accuracy_score(y_test, model_pred)\n",
        "print (\"Accuracy: %.3f\" % acc)"
      ]
    },
    {
      "cell_type": "markdown",
      "metadata": {
        "id": "pvLCw0jKob7i"
      },
      "source": [
        "# Normalization"
      ]
    },
    {
      "cell_type": "markdown",
      "source": [
        "split"
      ],
      "metadata": {
        "id": "zatQ5iVvZaqF"
      }
    },
    {
      "cell_type": "code",
      "execution_count": null,
      "metadata": {
        "id": "kt7QFU1-oZe6"
      },
      "outputs": [],
      "source": [
        "x_data = train_data.drop(['diagnose'], axis=1)\n",
        "# normalization\n",
        "X = (x_data - np.min(x_data)) / (np.max(x_data) - np.min(x_data)).values\n",
        "Y = train_data['diagnose']\n",
        "X_train, X_test, y_train, y_test = train_test_split(X, Y, test_size = 0.2, random_state = 0)\n"
      ]
    },
    {
      "cell_type": "code",
      "source": [
        "train_data.head(15)"
      ],
      "metadata": {
        "colab": {
          "base_uri": "https://localhost:8080/",
          "height": 519
        },
        "id": "-FPwhtV8UfAV",
        "outputId": "fc16ca68-1558-48bf-f724-a99ad46166f2"
      },
      "execution_count": null,
      "outputs": [
        {
          "output_type": "execute_result",
          "data": {
            "text/plain": [
              "    age  weight  height  sex  geneticDiabetes  geneticHeartDiseases   HR  \\\n",
              "0    80     119     160    0                0                     0  100   \n",
              "1    31      82     209    1                0                     1   58   \n",
              "2    76      83     168    1                1                     0   63   \n",
              "3    44     124     174    0                0                     0  103   \n",
              "4    61      57     180    1                1                     0   98   \n",
              "5    20     101     207    1                0                     0  102   \n",
              "6    89     116     200    1                1                     1   11   \n",
              "7    77      70     179    0                0                     0   86   \n",
              "8    19      74     204    1                0                     1   83   \n",
              "9    69      74     207    0                1                     0  131   \n",
              "10   35     113     153    1                0                     0   91   \n",
              "11   52      81     208    1                1                     0   97   \n",
              "12   79     112     180    1                1                     1   20   \n",
              "13   69      50     170    1                0                     0  146   \n",
              "14   31      97     185    0                0                     0   70   \n",
              "\n",
              "    Systolic_BP  Diastolic_BP  HRV  SpO2  temperature  RR  smoker  faint  \\\n",
              "0            77            39   22    58         37.0  15       0      0   \n",
              "1           149            94   46    85         35.9  10       1      0   \n",
              "2           115            87   79    87         37.1  28       1      0   \n",
              "3           172           102   24    98         37.1  20       1      0   \n",
              "4            98            74   93    85         39.8  23       0      0   \n",
              "5           169           108   28    98         37.3  20       0      0   \n",
              "6            23            13    2    38         31.8   2       1      0   \n",
              "7           102            71   61    97         36.0  12       0      0   \n",
              "8           107            85   64    91         36.2  24       1      0   \n",
              "9           146            99   29    95         37.0  16       1      0   \n",
              "10          106            71   55    98         36.8  20       1      0   \n",
              "11          107            69   73    96         37.5  15       0      0   \n",
              "12           22            12    1    53         32.3   4       1      0   \n",
              "13          197           110   53    95         37.1  18       1      0   \n",
              "14          139            86   86    91         37.2  29       1      0   \n",
              "\n",
              "    sleep  diagnose  \n",
              "0       1         5  \n",
              "1       1         8  \n",
              "2       0         3  \n",
              "3       0         7  \n",
              "4       0         9  \n",
              "5       0         7  \n",
              "6       1         4  \n",
              "7       0         6  \n",
              "8       0         2  \n",
              "9       0         7  \n",
              "10      0         6  \n",
              "11      0         0  \n",
              "12      0         4  \n",
              "13      0         7  \n",
              "14      0         3  "
            ],
            "text/html": [
              "\n",
              "  <div id=\"df-75b6195e-e8b5-4fea-953e-9b809cb36aec\">\n",
              "    <div class=\"colab-df-container\">\n",
              "      <div>\n",
              "<style scoped>\n",
              "    .dataframe tbody tr th:only-of-type {\n",
              "        vertical-align: middle;\n",
              "    }\n",
              "\n",
              "    .dataframe tbody tr th {\n",
              "        vertical-align: top;\n",
              "    }\n",
              "\n",
              "    .dataframe thead th {\n",
              "        text-align: right;\n",
              "    }\n",
              "</style>\n",
              "<table border=\"1\" class=\"dataframe\">\n",
              "  <thead>\n",
              "    <tr style=\"text-align: right;\">\n",
              "      <th></th>\n",
              "      <th>age</th>\n",
              "      <th>weight</th>\n",
              "      <th>height</th>\n",
              "      <th>sex</th>\n",
              "      <th>geneticDiabetes</th>\n",
              "      <th>geneticHeartDiseases</th>\n",
              "      <th>HR</th>\n",
              "      <th>Systolic_BP</th>\n",
              "      <th>Diastolic_BP</th>\n",
              "      <th>HRV</th>\n",
              "      <th>SpO2</th>\n",
              "      <th>temperature</th>\n",
              "      <th>RR</th>\n",
              "      <th>smoker</th>\n",
              "      <th>faint</th>\n",
              "      <th>sleep</th>\n",
              "      <th>diagnose</th>\n",
              "    </tr>\n",
              "  </thead>\n",
              "  <tbody>\n",
              "    <tr>\n",
              "      <th>0</th>\n",
              "      <td>80</td>\n",
              "      <td>119</td>\n",
              "      <td>160</td>\n",
              "      <td>0</td>\n",
              "      <td>0</td>\n",
              "      <td>0</td>\n",
              "      <td>100</td>\n",
              "      <td>77</td>\n",
              "      <td>39</td>\n",
              "      <td>22</td>\n",
              "      <td>58</td>\n",
              "      <td>37.0</td>\n",
              "      <td>15</td>\n",
              "      <td>0</td>\n",
              "      <td>0</td>\n",
              "      <td>1</td>\n",
              "      <td>5</td>\n",
              "    </tr>\n",
              "    <tr>\n",
              "      <th>1</th>\n",
              "      <td>31</td>\n",
              "      <td>82</td>\n",
              "      <td>209</td>\n",
              "      <td>1</td>\n",
              "      <td>0</td>\n",
              "      <td>1</td>\n",
              "      <td>58</td>\n",
              "      <td>149</td>\n",
              "      <td>94</td>\n",
              "      <td>46</td>\n",
              "      <td>85</td>\n",
              "      <td>35.9</td>\n",
              "      <td>10</td>\n",
              "      <td>1</td>\n",
              "      <td>0</td>\n",
              "      <td>1</td>\n",
              "      <td>8</td>\n",
              "    </tr>\n",
              "    <tr>\n",
              "      <th>2</th>\n",
              "      <td>76</td>\n",
              "      <td>83</td>\n",
              "      <td>168</td>\n",
              "      <td>1</td>\n",
              "      <td>1</td>\n",
              "      <td>0</td>\n",
              "      <td>63</td>\n",
              "      <td>115</td>\n",
              "      <td>87</td>\n",
              "      <td>79</td>\n",
              "      <td>87</td>\n",
              "      <td>37.1</td>\n",
              "      <td>28</td>\n",
              "      <td>1</td>\n",
              "      <td>0</td>\n",
              "      <td>0</td>\n",
              "      <td>3</td>\n",
              "    </tr>\n",
              "    <tr>\n",
              "      <th>3</th>\n",
              "      <td>44</td>\n",
              "      <td>124</td>\n",
              "      <td>174</td>\n",
              "      <td>0</td>\n",
              "      <td>0</td>\n",
              "      <td>0</td>\n",
              "      <td>103</td>\n",
              "      <td>172</td>\n",
              "      <td>102</td>\n",
              "      <td>24</td>\n",
              "      <td>98</td>\n",
              "      <td>37.1</td>\n",
              "      <td>20</td>\n",
              "      <td>1</td>\n",
              "      <td>0</td>\n",
              "      <td>0</td>\n",
              "      <td>7</td>\n",
              "    </tr>\n",
              "    <tr>\n",
              "      <th>4</th>\n",
              "      <td>61</td>\n",
              "      <td>57</td>\n",
              "      <td>180</td>\n",
              "      <td>1</td>\n",
              "      <td>1</td>\n",
              "      <td>0</td>\n",
              "      <td>98</td>\n",
              "      <td>98</td>\n",
              "      <td>74</td>\n",
              "      <td>93</td>\n",
              "      <td>85</td>\n",
              "      <td>39.8</td>\n",
              "      <td>23</td>\n",
              "      <td>0</td>\n",
              "      <td>0</td>\n",
              "      <td>0</td>\n",
              "      <td>9</td>\n",
              "    </tr>\n",
              "    <tr>\n",
              "      <th>5</th>\n",
              "      <td>20</td>\n",
              "      <td>101</td>\n",
              "      <td>207</td>\n",
              "      <td>1</td>\n",
              "      <td>0</td>\n",
              "      <td>0</td>\n",
              "      <td>102</td>\n",
              "      <td>169</td>\n",
              "      <td>108</td>\n",
              "      <td>28</td>\n",
              "      <td>98</td>\n",
              "      <td>37.3</td>\n",
              "      <td>20</td>\n",
              "      <td>0</td>\n",
              "      <td>0</td>\n",
              "      <td>0</td>\n",
              "      <td>7</td>\n",
              "    </tr>\n",
              "    <tr>\n",
              "      <th>6</th>\n",
              "      <td>89</td>\n",
              "      <td>116</td>\n",
              "      <td>200</td>\n",
              "      <td>1</td>\n",
              "      <td>1</td>\n",
              "      <td>1</td>\n",
              "      <td>11</td>\n",
              "      <td>23</td>\n",
              "      <td>13</td>\n",
              "      <td>2</td>\n",
              "      <td>38</td>\n",
              "      <td>31.8</td>\n",
              "      <td>2</td>\n",
              "      <td>1</td>\n",
              "      <td>0</td>\n",
              "      <td>1</td>\n",
              "      <td>4</td>\n",
              "    </tr>\n",
              "    <tr>\n",
              "      <th>7</th>\n",
              "      <td>77</td>\n",
              "      <td>70</td>\n",
              "      <td>179</td>\n",
              "      <td>0</td>\n",
              "      <td>0</td>\n",
              "      <td>0</td>\n",
              "      <td>86</td>\n",
              "      <td>102</td>\n",
              "      <td>71</td>\n",
              "      <td>61</td>\n",
              "      <td>97</td>\n",
              "      <td>36.0</td>\n",
              "      <td>12</td>\n",
              "      <td>0</td>\n",
              "      <td>0</td>\n",
              "      <td>0</td>\n",
              "      <td>6</td>\n",
              "    </tr>\n",
              "    <tr>\n",
              "      <th>8</th>\n",
              "      <td>19</td>\n",
              "      <td>74</td>\n",
              "      <td>204</td>\n",
              "      <td>1</td>\n",
              "      <td>0</td>\n",
              "      <td>1</td>\n",
              "      <td>83</td>\n",
              "      <td>107</td>\n",
              "      <td>85</td>\n",
              "      <td>64</td>\n",
              "      <td>91</td>\n",
              "      <td>36.2</td>\n",
              "      <td>24</td>\n",
              "      <td>1</td>\n",
              "      <td>0</td>\n",
              "      <td>0</td>\n",
              "      <td>2</td>\n",
              "    </tr>\n",
              "    <tr>\n",
              "      <th>9</th>\n",
              "      <td>69</td>\n",
              "      <td>74</td>\n",
              "      <td>207</td>\n",
              "      <td>0</td>\n",
              "      <td>1</td>\n",
              "      <td>0</td>\n",
              "      <td>131</td>\n",
              "      <td>146</td>\n",
              "      <td>99</td>\n",
              "      <td>29</td>\n",
              "      <td>95</td>\n",
              "      <td>37.0</td>\n",
              "      <td>16</td>\n",
              "      <td>1</td>\n",
              "      <td>0</td>\n",
              "      <td>0</td>\n",
              "      <td>7</td>\n",
              "    </tr>\n",
              "    <tr>\n",
              "      <th>10</th>\n",
              "      <td>35</td>\n",
              "      <td>113</td>\n",
              "      <td>153</td>\n",
              "      <td>1</td>\n",
              "      <td>0</td>\n",
              "      <td>0</td>\n",
              "      <td>91</td>\n",
              "      <td>106</td>\n",
              "      <td>71</td>\n",
              "      <td>55</td>\n",
              "      <td>98</td>\n",
              "      <td>36.8</td>\n",
              "      <td>20</td>\n",
              "      <td>1</td>\n",
              "      <td>0</td>\n",
              "      <td>0</td>\n",
              "      <td>6</td>\n",
              "    </tr>\n",
              "    <tr>\n",
              "      <th>11</th>\n",
              "      <td>52</td>\n",
              "      <td>81</td>\n",
              "      <td>208</td>\n",
              "      <td>1</td>\n",
              "      <td>1</td>\n",
              "      <td>0</td>\n",
              "      <td>97</td>\n",
              "      <td>107</td>\n",
              "      <td>69</td>\n",
              "      <td>73</td>\n",
              "      <td>96</td>\n",
              "      <td>37.5</td>\n",
              "      <td>15</td>\n",
              "      <td>0</td>\n",
              "      <td>0</td>\n",
              "      <td>0</td>\n",
              "      <td>0</td>\n",
              "    </tr>\n",
              "    <tr>\n",
              "      <th>12</th>\n",
              "      <td>79</td>\n",
              "      <td>112</td>\n",
              "      <td>180</td>\n",
              "      <td>1</td>\n",
              "      <td>1</td>\n",
              "      <td>1</td>\n",
              "      <td>20</td>\n",
              "      <td>22</td>\n",
              "      <td>12</td>\n",
              "      <td>1</td>\n",
              "      <td>53</td>\n",
              "      <td>32.3</td>\n",
              "      <td>4</td>\n",
              "      <td>1</td>\n",
              "      <td>0</td>\n",
              "      <td>0</td>\n",
              "      <td>4</td>\n",
              "    </tr>\n",
              "    <tr>\n",
              "      <th>13</th>\n",
              "      <td>69</td>\n",
              "      <td>50</td>\n",
              "      <td>170</td>\n",
              "      <td>1</td>\n",
              "      <td>0</td>\n",
              "      <td>0</td>\n",
              "      <td>146</td>\n",
              "      <td>197</td>\n",
              "      <td>110</td>\n",
              "      <td>53</td>\n",
              "      <td>95</td>\n",
              "      <td>37.1</td>\n",
              "      <td>18</td>\n",
              "      <td>1</td>\n",
              "      <td>0</td>\n",
              "      <td>0</td>\n",
              "      <td>7</td>\n",
              "    </tr>\n",
              "    <tr>\n",
              "      <th>14</th>\n",
              "      <td>31</td>\n",
              "      <td>97</td>\n",
              "      <td>185</td>\n",
              "      <td>0</td>\n",
              "      <td>0</td>\n",
              "      <td>0</td>\n",
              "      <td>70</td>\n",
              "      <td>139</td>\n",
              "      <td>86</td>\n",
              "      <td>86</td>\n",
              "      <td>91</td>\n",
              "      <td>37.2</td>\n",
              "      <td>29</td>\n",
              "      <td>1</td>\n",
              "      <td>0</td>\n",
              "      <td>0</td>\n",
              "      <td>3</td>\n",
              "    </tr>\n",
              "  </tbody>\n",
              "</table>\n",
              "</div>\n",
              "      <button class=\"colab-df-convert\" onclick=\"convertToInteractive('df-75b6195e-e8b5-4fea-953e-9b809cb36aec')\"\n",
              "              title=\"Convert this dataframe to an interactive table.\"\n",
              "              style=\"display:none;\">\n",
              "        \n",
              "  <svg xmlns=\"http://www.w3.org/2000/svg\" height=\"24px\"viewBox=\"0 0 24 24\"\n",
              "       width=\"24px\">\n",
              "    <path d=\"M0 0h24v24H0V0z\" fill=\"none\"/>\n",
              "    <path d=\"M18.56 5.44l.94 2.06.94-2.06 2.06-.94-2.06-.94-.94-2.06-.94 2.06-2.06.94zm-11 1L8.5 8.5l.94-2.06 2.06-.94-2.06-.94L8.5 2.5l-.94 2.06-2.06.94zm10 10l.94 2.06.94-2.06 2.06-.94-2.06-.94-.94-2.06-.94 2.06-2.06.94z\"/><path d=\"M17.41 7.96l-1.37-1.37c-.4-.4-.92-.59-1.43-.59-.52 0-1.04.2-1.43.59L10.3 9.45l-7.72 7.72c-.78.78-.78 2.05 0 2.83L4 21.41c.39.39.9.59 1.41.59.51 0 1.02-.2 1.41-.59l7.78-7.78 2.81-2.81c.8-.78.8-2.07 0-2.86zM5.41 20L4 18.59l7.72-7.72 1.47 1.35L5.41 20z\"/>\n",
              "  </svg>\n",
              "      </button>\n",
              "      \n",
              "  <style>\n",
              "    .colab-df-container {\n",
              "      display:flex;\n",
              "      flex-wrap:wrap;\n",
              "      gap: 12px;\n",
              "    }\n",
              "\n",
              "    .colab-df-convert {\n",
              "      background-color: #E8F0FE;\n",
              "      border: none;\n",
              "      border-radius: 50%;\n",
              "      cursor: pointer;\n",
              "      display: none;\n",
              "      fill: #1967D2;\n",
              "      height: 32px;\n",
              "      padding: 0 0 0 0;\n",
              "      width: 32px;\n",
              "    }\n",
              "\n",
              "    .colab-df-convert:hover {\n",
              "      background-color: #E2EBFA;\n",
              "      box-shadow: 0px 1px 2px rgba(60, 64, 67, 0.3), 0px 1px 3px 1px rgba(60, 64, 67, 0.15);\n",
              "      fill: #174EA6;\n",
              "    }\n",
              "\n",
              "    [theme=dark] .colab-df-convert {\n",
              "      background-color: #3B4455;\n",
              "      fill: #D2E3FC;\n",
              "    }\n",
              "\n",
              "    [theme=dark] .colab-df-convert:hover {\n",
              "      background-color: #434B5C;\n",
              "      box-shadow: 0px 1px 3px 1px rgba(0, 0, 0, 0.15);\n",
              "      filter: drop-shadow(0px 1px 2px rgba(0, 0, 0, 0.3));\n",
              "      fill: #FFFFFF;\n",
              "    }\n",
              "  </style>\n",
              "\n",
              "      <script>\n",
              "        const buttonEl =\n",
              "          document.querySelector('#df-75b6195e-e8b5-4fea-953e-9b809cb36aec button.colab-df-convert');\n",
              "        buttonEl.style.display =\n",
              "          google.colab.kernel.accessAllowed ? 'block' : 'none';\n",
              "\n",
              "        async function convertToInteractive(key) {\n",
              "          const element = document.querySelector('#df-75b6195e-e8b5-4fea-953e-9b809cb36aec');\n",
              "          const dataTable =\n",
              "            await google.colab.kernel.invokeFunction('convertToInteractive',\n",
              "                                                     [key], {});\n",
              "          if (!dataTable) return;\n",
              "\n",
              "          const docLinkHtml = 'Like what you see? Visit the ' +\n",
              "            '<a target=\"_blank\" href=https://colab.research.google.com/notebooks/data_table.ipynb>data table notebook</a>'\n",
              "            + ' to learn more about interactive tables.';\n",
              "          element.innerHTML = '';\n",
              "          dataTable['output_type'] = 'display_data';\n",
              "          await google.colab.output.renderOutput(dataTable, element);\n",
              "          const docLink = document.createElement('div');\n",
              "          docLink.innerHTML = docLinkHtml;\n",
              "          element.appendChild(docLink);\n",
              "        }\n",
              "      </script>\n",
              "    </div>\n",
              "  </div>\n",
              "  "
            ]
          },
          "metadata": {},
          "execution_count": 12
        }
      ]
    },
    {
      "cell_type": "markdown",
      "source": [
        "### Training"
      ],
      "metadata": {
        "id": "ejCaqwS9Z0Fa"
      }
    },
    {
      "cell_type": "code",
      "execution_count": null,
      "metadata": {
        "colab": {
          "base_uri": "https://localhost:8080/",
          "height": 1000
        },
        "id": "jZNyMDDRtXGZ",
        "outputId": "bcddefa6-9914-4a96-f9e5-c1d63d185490"
      },
      "outputs": [
        {
          "output_type": "stream",
          "name": "stdout",
          "text": [
            "                   precision    recall  f1-score   support\n",
            "\n",
            "           Angina      0.121     0.039     0.059       543\n",
            "       Arrhythmia      0.113     0.075     0.090       520\n",
            "           Asthma      0.084     0.116     0.097       493\n",
            "             COPD      0.092     0.170     0.119       494\n",
            "   Cardiac Arrest      0.093     0.081     0.086       484\n",
            "Cardiogenic Shock      0.115     0.102     0.108       559\n",
            "          Healthy      0.100     0.088     0.094       500\n",
            "     Heart Attack      0.107     0.155     0.127       521\n",
            "     Hypertension      0.077     0.065     0.070       495\n",
            "        Pneumonia      0.112     0.105     0.108       551\n",
            "\n",
            "         accuracy                          0.099      5160\n",
            "        macro avg      0.101     0.100     0.096      5160\n",
            "     weighted avg      0.102     0.099     0.096      5160\n",
            "\n",
            "Linear Discriminant Accuracy: 0.099\n",
            "\n",
            "\n",
            "                   precision    recall  f1-score   support\n",
            "\n",
            "           Angina      0.128     0.035     0.055       543\n",
            "       Arrhythmia      0.121     0.069     0.088       520\n",
            "           Asthma      0.087     0.122     0.102       493\n",
            "             COPD      0.092     0.174     0.121       494\n",
            "   Cardiac Arrest      0.091     0.087     0.089       484\n",
            "Cardiogenic Shock      0.114     0.116     0.115       559\n",
            "          Healthy      0.095     0.064     0.076       500\n",
            "     Heart Attack      0.104     0.144     0.121       521\n",
            "     Hypertension      0.081     0.075     0.078       495\n",
            "        Pneumonia      0.121     0.120     0.120       551\n",
            "\n",
            "         accuracy                          0.100      5160\n",
            "        macro avg      0.103     0.101     0.096      5160\n",
            "     weighted avg      0.104     0.100     0.097      5160\n",
            "\n",
            "Logistic Regression Accuracy: 0.100\n",
            "\n",
            "\n",
            "                   precision    recall  f1-score   support\n",
            "\n",
            "           Angina      0.105     0.096     0.100       543\n",
            "       Arrhythmia      0.124     0.129     0.127       520\n",
            "           Asthma      0.101     0.103     0.102       493\n",
            "             COPD      0.093     0.107     0.100       494\n",
            "   Cardiac Arrest      0.098     0.107     0.103       484\n",
            "Cardiogenic Shock      0.100     0.091     0.096       559\n",
            "          Healthy      0.107     0.104     0.105       500\n",
            "     Heart Attack      0.091     0.092     0.092       521\n",
            "     Hypertension      0.096     0.095     0.095       495\n",
            "        Pneumonia      0.132     0.123     0.127       551\n",
            "\n",
            "         accuracy                          0.105      5160\n",
            "        macro avg      0.105     0.105     0.105      5160\n",
            "     weighted avg      0.105     0.105     0.105      5160\n",
            "\n",
            "Decision Tree Accuracy: 0.105\n",
            "\n",
            "\n",
            "                   precision    recall  f1-score   support\n",
            "\n",
            "           Angina      0.126     0.136     0.131       543\n",
            "       Arrhythmia      0.125     0.129     0.127       520\n",
            "           Asthma      0.103     0.116     0.109       493\n",
            "             COPD      0.074     0.085     0.079       494\n",
            "   Cardiac Arrest      0.087     0.095     0.091       484\n",
            "Cardiogenic Shock      0.118     0.102     0.110       559\n",
            "          Healthy      0.104     0.104     0.104       500\n",
            "     Heart Attack      0.087     0.081     0.084       521\n",
            "     Hypertension      0.123     0.119     0.121       495\n",
            "        Pneumonia      0.105     0.085     0.094       551\n",
            "\n",
            "         accuracy                          0.105      5160\n",
            "        macro avg      0.105     0.105     0.105      5160\n",
            "     weighted avg      0.106     0.105     0.105      5160\n",
            "\n",
            "Random Forest Accuracy: 0.105\n",
            "\n",
            "\n",
            "                   precision    recall  f1-score   support\n",
            "\n",
            "           Angina      0.109     0.243     0.151       543\n",
            "       Arrhythmia      0.123     0.198     0.151       520\n",
            "           Asthma      0.105     0.136     0.118       493\n",
            "             COPD      0.080     0.081     0.081       494\n",
            "   Cardiac Arrest      0.088     0.070     0.078       484\n",
            "Cardiogenic Shock      0.120     0.073     0.091       559\n",
            "          Healthy      0.113     0.070     0.086       500\n",
            "     Heart Attack      0.086     0.050     0.063       521\n",
            "     Hypertension      0.080     0.051     0.062       495\n",
            "        Pneumonia      0.110     0.064     0.081       551\n",
            "\n",
            "         accuracy                          0.104      5160\n",
            "        macro avg      0.101     0.104     0.096      5160\n",
            "     weighted avg      0.102     0.104     0.097      5160\n",
            "\n",
            "K-Nearest Neighbors Accuracy: 0.104\n",
            "\n",
            "\n"
          ]
        },
        {
          "output_type": "error",
          "ename": "KeyboardInterrupt",
          "evalue": "ignored",
          "traceback": [
            "\u001b[0;31m---------------------------------------------------------------------------\u001b[0m",
            "\u001b[0;31mKeyboardInterrupt\u001b[0m                         Traceback (most recent call last)",
            "\u001b[0;32m<ipython-input-34-7dc9c68377bf>\u001b[0m in \u001b[0;36m<cell line: 63>\u001b[0;34m()\u001b[0m\n\u001b[1;32m     61\u001b[0m \u001b[0;31m# Train and evaluate a Support Vector Machine model\u001b[0m\u001b[0;34m\u001b[0m\u001b[0;34m\u001b[0m\u001b[0m\n\u001b[1;32m     62\u001b[0m \u001b[0msvc\u001b[0m \u001b[0;34m=\u001b[0m \u001b[0mSVC\u001b[0m\u001b[0;34m(\u001b[0m\u001b[0;34m)\u001b[0m\u001b[0;34m\u001b[0m\u001b[0;34m\u001b[0m\u001b[0m\n\u001b[0;32m---> 63\u001b[0;31m \u001b[0msvc\u001b[0m\u001b[0;34m.\u001b[0m\u001b[0mfit\u001b[0m\u001b[0;34m(\u001b[0m\u001b[0mx_train\u001b[0m\u001b[0;34m,\u001b[0m \u001b[0my_train\u001b[0m\u001b[0;34m)\u001b[0m\u001b[0;34m\u001b[0m\u001b[0;34m\u001b[0m\u001b[0m\n\u001b[0m\u001b[1;32m     64\u001b[0m \u001b[0my_pred\u001b[0m \u001b[0;34m=\u001b[0m \u001b[0msvc\u001b[0m\u001b[0;34m.\u001b[0m\u001b[0mpredict\u001b[0m\u001b[0;34m(\u001b[0m\u001b[0mx_test\u001b[0m\u001b[0;34m)\u001b[0m\u001b[0;34m\u001b[0m\u001b[0;34m\u001b[0m\u001b[0m\n\u001b[1;32m     65\u001b[0m \u001b[0maccuracy\u001b[0m \u001b[0;34m=\u001b[0m \u001b[0maccuracy_score\u001b[0m\u001b[0;34m(\u001b[0m\u001b[0my_test\u001b[0m\u001b[0;34m,\u001b[0m \u001b[0my_pred\u001b[0m\u001b[0;34m)\u001b[0m\u001b[0;34m\u001b[0m\u001b[0;34m\u001b[0m\u001b[0m\n",
            "\u001b[0;32m/usr/local/lib/python3.10/dist-packages/sklearn/svm/_base.py\u001b[0m in \u001b[0;36mfit\u001b[0;34m(self, X, y, sample_weight)\u001b[0m\n\u001b[1;32m    250\u001b[0m \u001b[0;34m\u001b[0m\u001b[0m\n\u001b[1;32m    251\u001b[0m         \u001b[0mseed\u001b[0m \u001b[0;34m=\u001b[0m \u001b[0mrnd\u001b[0m\u001b[0;34m.\u001b[0m\u001b[0mrandint\u001b[0m\u001b[0;34m(\u001b[0m\u001b[0mnp\u001b[0m\u001b[0;34m.\u001b[0m\u001b[0miinfo\u001b[0m\u001b[0;34m(\u001b[0m\u001b[0;34m\"i\"\u001b[0m\u001b[0;34m)\u001b[0m\u001b[0;34m.\u001b[0m\u001b[0mmax\u001b[0m\u001b[0;34m)\u001b[0m\u001b[0;34m\u001b[0m\u001b[0;34m\u001b[0m\u001b[0m\n\u001b[0;32m--> 252\u001b[0;31m         \u001b[0mfit\u001b[0m\u001b[0;34m(\u001b[0m\u001b[0mX\u001b[0m\u001b[0;34m,\u001b[0m \u001b[0my\u001b[0m\u001b[0;34m,\u001b[0m \u001b[0msample_weight\u001b[0m\u001b[0;34m,\u001b[0m \u001b[0msolver_type\u001b[0m\u001b[0;34m,\u001b[0m \u001b[0mkernel\u001b[0m\u001b[0;34m,\u001b[0m \u001b[0mrandom_seed\u001b[0m\u001b[0;34m=\u001b[0m\u001b[0mseed\u001b[0m\u001b[0;34m)\u001b[0m\u001b[0;34m\u001b[0m\u001b[0;34m\u001b[0m\u001b[0m\n\u001b[0m\u001b[1;32m    253\u001b[0m         \u001b[0;31m# see comment on the other call to np.iinfo in this file\u001b[0m\u001b[0;34m\u001b[0m\u001b[0;34m\u001b[0m\u001b[0m\n\u001b[1;32m    254\u001b[0m \u001b[0;34m\u001b[0m\u001b[0m\n",
            "\u001b[0;32m/usr/local/lib/python3.10/dist-packages/sklearn/svm/_base.py\u001b[0m in \u001b[0;36m_dense_fit\u001b[0;34m(self, X, y, sample_weight, solver_type, kernel, random_seed)\u001b[0m\n\u001b[1;32m    329\u001b[0m             \u001b[0mself\u001b[0m\u001b[0;34m.\u001b[0m\u001b[0mfit_status_\u001b[0m\u001b[0;34m,\u001b[0m\u001b[0;34m\u001b[0m\u001b[0;34m\u001b[0m\u001b[0m\n\u001b[1;32m    330\u001b[0m             \u001b[0mself\u001b[0m\u001b[0;34m.\u001b[0m\u001b[0m_num_iter\u001b[0m\u001b[0;34m,\u001b[0m\u001b[0;34m\u001b[0m\u001b[0;34m\u001b[0m\u001b[0m\n\u001b[0;32m--> 331\u001b[0;31m         \u001b[0;34m)\u001b[0m \u001b[0;34m=\u001b[0m \u001b[0mlibsvm\u001b[0m\u001b[0;34m.\u001b[0m\u001b[0mfit\u001b[0m\u001b[0;34m(\u001b[0m\u001b[0;34m\u001b[0m\u001b[0;34m\u001b[0m\u001b[0m\n\u001b[0m\u001b[1;32m    332\u001b[0m             \u001b[0mX\u001b[0m\u001b[0;34m,\u001b[0m\u001b[0;34m\u001b[0m\u001b[0;34m\u001b[0m\u001b[0m\n\u001b[1;32m    333\u001b[0m             \u001b[0my\u001b[0m\u001b[0;34m,\u001b[0m\u001b[0;34m\u001b[0m\u001b[0;34m\u001b[0m\u001b[0m\n",
            "\u001b[0;31mKeyboardInterrupt\u001b[0m: "
          ]
        }
      ],
      "source": [
        "# Train and evaluate a Logistic Regression model\n",
        "lr = LinearDiscriminantAnalysis()\n",
        "lr.fit(x_train, y_train)\n",
        "y_pred = lr.predict(x_test)\n",
        "accuracy = accuracy_score(y_test, y_pred)\n",
        "# storing recall_score for later comparision\n",
        "lr_recall = round(recall_score(y_test,y_pred,average='weighted'),3)\n",
        "print (classification_report(y_test, y_pred, labels=None, target_names=None, sample_weight=None, digits=3, output_dict=False))\n",
        "acc = accuracy_score(y_test, y_pred)\n",
        "print ( \"Linear Discriminant Accuracy: %.3f\" % acc)\n",
        "print (\"\\n\")\n",
        "# --------------------------------------------------------------------------\n",
        "# Train and evaluate a Logistic Regression model\n",
        "lr = LogisticRegression(max_iter=10000)\n",
        "lr.fit(x_train, y_train)\n",
        "y_pred = lr.predict(x_test)\n",
        "accuracy = accuracy_score(y_test, y_pred)\n",
        "# storing recall_score for later comparision\n",
        "lr_recall = round(recall_score(y_test,y_pred,average='weighted'),3)\n",
        "print (classification_report(y_test, y_pred, labels=None, target_names=None, sample_weight=None, digits=3, output_dict=False))\n",
        "acc = accuracy_score(y_test, y_pred)\n",
        "print ( \"Logistic Regression Accuracy: %.3f\" % acc)\n",
        "print (\"\\n\")\n",
        "# --------------------------------------------------------------------------\n",
        "# Train and evaluate a Decision Tree model\n",
        "dt = DecisionTreeClassifier()\n",
        "dt.fit(x_train, y_train)\n",
        "y_pred = dt.predict(x_test)\n",
        "accuracy = accuracy_score(y_test, y_pred)\n",
        "# storing recall_score for later comparision\n",
        "dt_recall = round(recall_score(y_test,y_pred,average='weighted'),3)\n",
        "print (classification_report(y_test, y_pred, labels=None, target_names=None, sample_weight=None, digits=3, output_dict=False))\n",
        "acc = accuracy_score(y_test, y_pred)\n",
        "print ( \"Decision Tree Accuracy: %.3f\" % acc)\n",
        "print (\"\\n\")\n",
        "# --------------------------------------------------------------------------\n",
        "# Train and evaluate a Random Forest model\n",
        "rf = RandomForestClassifier()\n",
        "rf.fit(x_train, y_train)\n",
        "y_pred = rf.predict(x_test)\n",
        "accuracy = accuracy_score(y_test, y_pred)\n",
        "# storing recall_score for later comparision\n",
        "rf_recall = round(recall_score(y_test,y_pred,average='weighted'),3)\n",
        "print (classification_report(y_test, y_pred, labels=None, target_names=None, sample_weight=None, digits=3, output_dict=False))\n",
        "acc = accuracy_score(y_test, y_pred)\n",
        "print ( \"Random Forest Accuracy: %.3f\" % acc)\n",
        "print (\"\\n\")\n",
        "# --------------------------------------------------------------------------\n",
        "# Train and evaluate a K-Nearest Neighbors model\n",
        "knn = KNeighborsClassifier()\n",
        "knn.fit(x_train, y_train)\n",
        "y_pred = knn.predict(x_test)\n",
        "accuracy = accuracy_score(y_test, y_pred)\n",
        "# storing recall_score for later comparision\n",
        "knn_recall = round(recall_score(y_test,y_pred,average='weighted'),3)\n",
        "print (classification_report(y_test, y_pred, labels=None, target_names=None, sample_weight=None, digits=3, output_dict=False))\n",
        "acc = accuracy_score(y_test, y_pred)\n",
        "print ( \"K-Nearest Neighbors Accuracy: %.3f\" % acc)\n",
        "print (\"\\n\")\n",
        "# --------------------------------------------------------------------------\n",
        "# Train and evaluate a Support Vector Machine model\n",
        "svc = SVC()\n",
        "svc.fit(x_train, y_train)\n",
        "y_pred = svc.predict(x_test)\n",
        "accuracy = accuracy_score(y_test, y_pred)\n",
        "# storing recall_score for later comparision\n",
        "svc_recall = round(recall_score(y_test,y_pred,average='weighted'),3)\n",
        "print (classification_report(y_test, y_pred, labels=None, target_names=None, sample_weight=None, digits=3, output_dict=False))\n",
        "acc = accuracy_score(y_test, y_pred)\n",
        "print ( \"Support Vector Machine Accuracy: %.3f\" % acc)\n",
        "print (\"\\n\")\n",
        "# --------------------------------------------------------------------------\n",
        "# Train and evaluate a Naive Bayes model\n",
        "gnb = GaussianNB()\n",
        "gnb.fit(x_train, y_train)\n",
        "y_pred = gnb.predict(x_test)\n",
        "accuracy = accuracy_score(y_test, y_pred)\n",
        "# storing recall_score for later comparision\n",
        "gnb_recall = round(recall_score(y_test,y_pred,average='weighted'),3)\n",
        "print (classification_report(y_test, y_pred, labels=None, target_names=None, sample_weight=None, digits=3, output_dict=False))\n",
        "acc = accuracy_score(y_test, y_pred)\n",
        "print ( \"Naive Bayes Accuracy: %.3f\" % acc)\n",
        "print (\"\\n\")\n",
        "# --------------------------------------------------------------------------\n",
        "# Train and evaluate a Multi-Layer Perceptron model\n",
        "mlp = MLPClassifier(max_iter=10000)\n",
        "mlp.fit(x_train, y_train)\n",
        "y_pred = mlp.predict(x_test)\n",
        "accuracy = accuracy_score(y_test, y_pred)\n",
        "# ------\n",
        "# storing recall_score for later comparision\n",
        "mlp_recall = round(recall_score(y_test,y_pred,average='weighted'),3)\n",
        "print (classification_report(y_test, y_pred, labels=None, target_names=None, sample_weight=None, digits=3, output_dict=False))\n",
        "acc = accuracy_score(y_test, y_pred)\n",
        "print ( \"Multi-Layer Perceptron Accuracy: %.3f\" % acc)\n",
        "# ----------------------------------------------------------\n",
        "print(\"\\n\\n\")\n",
        "# train using Cross Val Score\n",
        "# Spot Check Algorithms\n",
        "models = []\n",
        "models.append(('LR Logistic Regression Accuracy', LogisticRegression(solver='liblinear', multi_class='ovr')))\n",
        "models.append(('LDA Linear Discriminat Analysis Accuracy:', LinearDiscriminantAnalysis()))\n",
        "models.append(('KNN Accurcy:', KNeighborsClassifier()))\n",
        "models.append(('CenterART Decision Tree Accuracy:', DecisionTreeClassifier()))\n",
        "models.append(('NB Naive Bayes Accuracy:', GaussianNB()))\n",
        "models.append(('Multi-Layer Perceptron Accuracy:', MLPClassifier(max_iter=10000)))\n",
        "models.append(('Random Forest Accuracy:', RandomForestClassifier()))\n",
        "models.append(('SVM', SVC(gamma='auto')))\n",
        "# evaluate each model in turn\n",
        "results = []\n",
        "names = []\n",
        "for name, model in models:\n",
        "\tkfold = StratifiedKFold(n_splits=10, random_state=1, shuffle=True)\n",
        "\tcv_results = cross_val_score(model, x_train, y_train, cv=kfold, scoring='accuracy')\n",
        "\tresults.append(cv_results)\n",
        "\tnames.append(name)\n",
        "\tprint('%s: %f (%f)' % (name, cv_results.mean(), cv_results.std()))\n",
        "\n"
      ]
    },
    {
      "cell_type": "markdown",
      "metadata": {
        "id": "jHVe11jdsqdy"
      },
      "source": [
        "### Saving weights as Joblib"
      ]
    },
    {
      "cell_type": "code",
      "execution_count": null,
      "metadata": {
        "id": "90d22442"
      },
      "outputs": [],
      "source": [
        "filename = 'heart_model_KNN_normalization.joblib'\n",
        "joblib.dump(knn, open(filename, 'wb'))"
      ]
    },
    {
      "cell_type": "code",
      "execution_count": null,
      "metadata": {
        "id": "382c8fb0"
      },
      "outputs": [],
      "source": [
        "loaded_model = joblib.load(open(filename, 'rb'))\n",
        "model_pred = loaded_model.predict(x_test)\n",
        "# storing recall_score for later comparision\n",
        "model_recall = round(recall_score(y_test,model_pred,average='weighted'),3)\n",
        "print (classification_report(y_test, model_pred, labels=None, target_names=None, sample_weight=None, digits=3, output_dict=False))\n",
        "acc = accuracy_score(y_test, model_pred)\n",
        "print (\"Accuracy: %.3f\" % acc)"
      ]
    },
    {
      "cell_type": "code",
      "execution_count": null,
      "metadata": {
        "id": "vlayPg0Z5myY"
      },
      "outputs": [],
      "source": [
        "filename = 'heart_model_LogisticRegression_normalization.joblib'\n",
        "joblib.dump(lr, open(filename, 'wb'))"
      ]
    },
    {
      "cell_type": "code",
      "execution_count": null,
      "metadata": {
        "id": "xK58T4vzsWSz"
      },
      "outputs": [],
      "source": [
        "loaded_model = joblib.load(open(filename, 'rb'))\n",
        "model_pred = loaded_model.predict(x_test)\n",
        "# storing recall_score for later comparision\n",
        "model_recall = round(recall_score(y_test,model_pred,average='weighted'),3)\n",
        "print (classification_report(y_test, model_pred, labels=None, target_names=None, sample_weight=None, digits=3, output_dict=False))\n",
        "acc = accuracy_score(y_test, model_pred)\n",
        "print (\"Accuracy: %.3f\" % acc)"
      ]
    },
    {
      "cell_type": "code",
      "execution_count": null,
      "metadata": {
        "id": "IFAWw2Mu5mk2"
      },
      "outputs": [],
      "source": [
        "filename = 'heart_model_DecisionTree_normalization.joblib'\n",
        "joblib.dump(dt, open(filename, 'wb'))"
      ]
    },
    {
      "cell_type": "code",
      "execution_count": null,
      "metadata": {
        "id": "WJM4LQCpsWxy"
      },
      "outputs": [],
      "source": [
        "loaded_model = joblib.load(open(filename, 'rb'))\n",
        "model_pred = loaded_model.predict(x_test)\n",
        "# storing recall_score for later comparision\n",
        "model_recall = round(recall_score(y_test,model_pred,average='weighted'),3)\n",
        "print (classification_report(y_test, model_pred, labels=None, target_names=None, sample_weight=None, digits=3, output_dict=False))\n",
        "acc = accuracy_score(y_test, model_pred)\n",
        "print (\"Accuracy: %.3f\" % acc)"
      ]
    },
    {
      "cell_type": "code",
      "execution_count": null,
      "metadata": {
        "id": "ybQtqemK5miD"
      },
      "outputs": [],
      "source": [
        "filename = 'heart_model_RandomForest_normalization.joblib'\n",
        "joblib.dump(rf, open(filename, 'wb'))"
      ]
    },
    {
      "cell_type": "code",
      "execution_count": null,
      "metadata": {
        "id": "pB6swaHlsXZH"
      },
      "outputs": [],
      "source": [
        "loaded_model = joblib.load(open(filename, 'rb'))\n",
        "model_pred = loaded_model.predict(x_test)\n",
        "# storing recall_score for later comparision\n",
        "model_recall = round(recall_score(y_test,model_pred,average='weighted'),3)\n",
        "print (classification_report(y_test, model_pred, labels=None, target_names=None, sample_weight=None, digits=3, output_dict=False))\n",
        "acc = accuracy_score(y_test, model_pred)\n",
        "print (\"Accuracy: %.3f\" % acc)"
      ]
    },
    {
      "cell_type": "code",
      "execution_count": null,
      "metadata": {
        "id": "SElV98U55me5"
      },
      "outputs": [],
      "source": [
        "filename = 'heart_model_SVM_normalization.joblib'\n",
        "joblib.dump(svc, open(filename, 'wb'))"
      ]
    },
    {
      "cell_type": "code",
      "execution_count": null,
      "metadata": {
        "id": "jCE_VkaCsXxJ"
      },
      "outputs": [],
      "source": [
        "loaded_model = joblib.load(open(filename, 'rb'))\n",
        "model_pred = loaded_model.predict(x_test)\n",
        "# storing recall_score for later comparision\n",
        "model_recall = round(recall_score(y_test,model_pred,average='weighted'),3)\n",
        "print (classification_report(y_test, model_pred, labels=None, target_names=None, sample_weight=None, digits=3, output_dict=False))\n",
        "acc = accuracy_score(y_test, model_pred)\n",
        "print (\"Accuracy: %.3f\" % acc)"
      ]
    },
    {
      "cell_type": "code",
      "execution_count": null,
      "metadata": {
        "id": "qpZcQNmv5mcd"
      },
      "outputs": [],
      "source": [
        "filename = 'heart_model_GaussianNB_normalization.joblib'\n",
        "joblib.dump(gnb, open(filename, 'wb'))"
      ]
    },
    {
      "cell_type": "code",
      "execution_count": null,
      "metadata": {
        "id": "FNy9QQa1sYGZ"
      },
      "outputs": [],
      "source": [
        "loaded_model = joblib.load(open(filename, 'rb'))\n",
        "model_pred = loaded_model.predict(x_test)\n",
        "# storing recall_score for later comparision\n",
        "model_recall = round(recall_score(y_test,model_pred,average='weighted'),3)\n",
        "print (classification_report(y_test, model_pred, labels=None, target_names=None, sample_weight=None, digits=3, output_dict=False))\n",
        "acc = accuracy_score(y_test, model_pred)\n",
        "print (\"Accuracy: %.3f\" % acc)"
      ]
    },
    {
      "cell_type": "code",
      "execution_count": null,
      "metadata": {
        "id": "EQ3jj06e5maZ"
      },
      "outputs": [],
      "source": [
        "filename = 'heart_model_Multi_LayerPerceptron_normalization.joblib'\n",
        "joblib.dump(mlp, open(filename, 'wb'))"
      ]
    },
    {
      "cell_type": "code",
      "execution_count": null,
      "metadata": {
        "id": "zS7bHzcasYer"
      },
      "outputs": [],
      "source": [
        "loaded_model = joblib.load(open(filename, 'rb'))\n",
        "model_pred = loaded_model.predict(x_test)\n",
        "# storing recall_score for later comparision\n",
        "model_recall = round(recall_score(y_test,model_pred,average='weighted'),3)\n",
        "print (classification_report(y_test, model_pred, labels=None, target_names=None, sample_weight=None, digits=3, output_dict=False))\n",
        "acc = accuracy_score(y_test, model_pred)\n",
        "print (\"Accuracy: %.3f\" % acc)"
      ]
    },
    {
      "cell_type": "markdown",
      "metadata": {
        "id": "aXuJ1uk3brlW"
      },
      "source": [
        "# Predict model"
      ]
    },
    {
      "cell_type": "code",
      "execution_count": null,
      "metadata": {
        "id": "kuWpuk6rh_Mb"
      },
      "outputs": [],
      "source": [
        "model_pred = loaded_model.predict(x_test[0:7])\n",
        "print(model_pred)\n",
        "print(y_test[0:7])\n",
        "print(train_data.head(35))"
      ]
    },
    {
      "cell_type": "markdown",
      "metadata": {
        "id": "N5zY40AtNzj5"
      },
      "source": [
        "# **ROC-AUC**"
      ]
    },
    {
      "cell_type": "code",
      "execution_count": null,
      "metadata": {
        "id": "07f5f0ea"
      },
      "outputs": [],
      "source": [
        "from matplotlib import cm\n",
        "from sklearn.metrics import roc_curve, auc\n",
        "from sklearn.multiclass import OneVsRestClassifier\n",
        "# -------------------------------------------------\n",
        "plt.figure(figsize = (15,8))\n",
        "plt.xlim([-0.01, 1.00])\n",
        "plt.ylim([-0.01, 1.01])\n",
        "for g in [0.01, 0.1, 0.20, 1, 'scale', 'auto']:\n",
        "    svm = SVC(gamma=g).fit(x_train, y_train)\n",
        "    y_score_svm = svm.decision_function(x_test)\n",
        "    fpr_svm, tpr_svm, _ = roc_curve(y_test, y_score_svm)\n",
        "    roc_auc_svm = auc(fpr_svm, tpr_svm)\n",
        "    accuracy_svm = svm.score(x_test, y_test)\n",
        "    print(\"gamma = {}  accuracy = {:.2f}   AUC = {:.2f}\".format(g, accuracy_svm,\n",
        "                                                                    roc_auc_svm))\n",
        "    plt.plot(fpr_svm, tpr_svm, lw=3, alpha=0.7,\n",
        "             label='SVM (gamma = {}, auc = {:0.2f})'.format(g, roc_auc_svm))\n",
        "\n",
        "plt.xlabel('False Positive rate', fontsize=16)\n",
        "plt.ylabel('True Positive rate (Recall)', fontsize=16)\n",
        "plt.plot([0, 1], [0, 1], color='k', lw=0.5, linestyle='--')\n",
        "plt.legend(loc=\"lower right\", fontsize=11)\n",
        "plt.title('ROC Curve: (1-of-1)', fontsize=16)\n",
        "plt.axes().set_aspect('equal')\n",
        "\n",
        "plt.show()"
      ]
    },
    {
      "cell_type": "markdown",
      "metadata": {
        "id": "ddKQiJp4Zj5l"
      },
      "source": [
        "# Cross Validation"
      ]
    },
    {
      "cell_type": "code",
      "execution_count": null,
      "metadata": {
        "id": "gzUgMgpVZiqS"
      },
      "outputs": [],
      "source": [
        "from sklearn.model_selection import validation_curve\n",
        "\n",
        "param_range = np.logspace(-3, 3, 4)\n",
        "train_scores, test_scores = validation_curve(SVC(), x_train, y_train,\n",
        "                                            param_name='gamma',\n",
        "                                            param_range=param_range, cv=3)\n",
        "plt.figure(figsize = (15,8))\n",
        "\n",
        "train_scores_mean = np.mean(train_scores, axis=1)\n",
        "train_scores_std = np.std(train_scores, axis=1)\n",
        "test_scores_mean = np.mean(test_scores, axis=1)\n",
        "test_scores_std = np.std(test_scores, axis=1)\n",
        "\n",
        "plt.title('Validation Curve with ')\n",
        "plt.xlabel('$\\gamma$ (gamma)')\n",
        "plt.ylabel('Score')\n",
        "plt.ylim(0.0, 1.1)\n",
        "lw = 2\n",
        "\n",
        "plt.semilogx(param_range, train_scores_mean, label='Training score',\n",
        "            color='darkorange', lw=lw)\n",
        "\n",
        "plt.fill_between(param_range, train_scores_mean - train_scores_std,\n",
        "                train_scores_mean + train_scores_std, alpha=0.2,\n",
        "                color='darkorange', lw=lw)\n",
        "\n",
        "plt.semilogx(param_range, test_scores_mean, label='Cross-validation score',\n",
        "            color='navy', lw=lw)\n",
        "\n",
        "plt.fill_between(param_range, test_scores_mean - test_scores_std,\n",
        "                test_scores_mean + test_scores_std, alpha=0.2,\n",
        "                color='navy', lw=lw)\n",
        "\n",
        "plt.legend(loc='best')\n",
        "plt.show()"
      ]
    },
    {
      "cell_type": "markdown",
      "metadata": {
        "id": "ZfFR0roVGUe1"
      },
      "source": [
        "------------------------\n",
        "**دي جزئية انا مش فاهمها **\n",
        "----------------------"
      ]
    },
    {
      "cell_type": "code",
      "execution_count": null,
      "metadata": {
        "id": "d_InTJT_HfYB"
      },
      "outputs": [],
      "source": [
        "k_fold = KFold(n_splits=10,shuffle=True,random_state=0)"
      ]
    },
    {
      "cell_type": "code",
      "execution_count": null,
      "metadata": {
        "id": "iELX42kpHfaP"
      },
      "outputs": [],
      "source": [
        "\n",
        "\n",
        "target = train_data['diagnose']\n",
        "# kNN\n",
        "clf = KNeighborsClassifier()\n",
        "score = cross_val_score(clf , train_data , target , cv = k_fold , n_jobs=1  ,scoring='accuracy')\n",
        "print(score)\n",
        "print(\"----------------\")\n",
        "print(round(np.mean(score)*100,2))"
      ]
    },
    {
      "cell_type": "code",
      "execution_count": null,
      "metadata": {
        "id": "-hV6a8AzHfcT"
      },
      "outputs": [],
      "source": [
        "# Decision Tree\n",
        "clf = DecisionTreeClassifier()\n",
        "score = cross_val_score(clf , train_data , target , cv = k_fold , n_jobs=1  ,scoring='accuracy')\n",
        "print(score)\n",
        "print(\"----------------\")\n",
        "print(round(np.mean(score)*100,2))"
      ]
    },
    {
      "cell_type": "code",
      "execution_count": null,
      "metadata": {
        "id": "zrNGtPS5Hfe8"
      },
      "outputs": [],
      "source": [
        "# Random Forest\n",
        "clf = RandomForestClassifier(n_estimators=13)\n",
        "score = cross_val_score(clf , train_data , target , cv = k_fold , n_jobs=1  ,scoring='accuracy')\n",
        "print(score)\n",
        "print(\"----------------\")\n",
        "print(round(np.mean(score)*100,2))"
      ]
    },
    {
      "cell_type": "code",
      "execution_count": null,
      "metadata": {
        "id": "8eUI2IkVHfhO"
      },
      "outputs": [],
      "source": [
        "# Naive Bayes\n",
        "clf = GaussianNB()\n",
        "score = cross_val_score(clf , train_data , target , cv = k_fold , n_jobs=1  ,scoring='accuracy')\n",
        "print(score)\n",
        "print(\"----------------\")\n",
        "print(round(np.mean(score)*100,2))"
      ]
    },
    {
      "cell_type": "code",
      "execution_count": null,
      "metadata": {
        "id": "TbsEJ965Hfj9"
      },
      "outputs": [],
      "source": [
        "# SVM\n",
        "clf = SVC()\n",
        "score = cross_val_score(clf , train_data , target , cv = k_fold , n_jobs=1  ,scoring='accuracy')\n",
        "print(score)\n",
        "print(\"----------------\")\n",
        "print(round(np.mean(score)*100,2))"
      ]
    }
  ],
  "metadata": {
    "colab": {
      "provenance": [],
      "collapsed_sections": [
        "ejCaqwS9Z0Fa",
        "ZfFR0roVGUe1"
      ]
    },
    "kernelspec": {
      "display_name": "Python 3",
      "name": "python3"
    },
    "language_info": {
      "name": "python"
    }
  },
  "nbformat": 4,
  "nbformat_minor": 0
}